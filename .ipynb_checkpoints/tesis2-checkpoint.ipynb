{
 "cells": [
  {
   "cell_type": "markdown",
   "metadata": {},
   "source": [
    "# Tesis"
   ]
  },
  {
   "cell_type": "markdown",
   "metadata": {},
   "source": [
    "Este es el cuaderno de Jupyter para la implementación de la tesis. <br >\n",
    "Este código utiliza el trabajo realizado por Diego Gomez (Poner aquí link al artículo de el, o el github o lo que sea) y lo aplica al problema de la regulación del nivel de glucosa en la sangre en pacientes Diabéticos Tipo 1. <br >\n",
    "Se utiliza la librería de \"simglucose\" que permite simular la dinámica de la glucosa, de acuerdo con el simulador aprobado por la FDA de UVa/Padova (Versión 2008). <br >\n",
    "Link de la librería de simglucose: https://github.com/jxx123/simglucose <br >\n",
    "Link del GitHub de Diego: https://github.com/tarod13 <br >"
   ]
  },
  {
   "cell_type": "markdown",
   "metadata": {},
   "source": [
    "# Tareas\n",
    "1. Entender bien la librería de simglucose: rewards, acciones, estados, todo eso. (En progreso: ~5%) \n",
    "2. Hacer lo del mapeo de estados a acciones: s->a (En progreso: ~80%)\n",
    "3. Hacer lo del mapeo de estados a Habilidades: s->A (Sin comenzar: 0%)\n",
    "4. Implementar lo de Diego para encontrar los conceptos: s->S (Sin comenzar: 0%)\n",
    "5. Analizar todo"
   ]
  },
  {
   "cell_type": "code",
   "execution_count": 1,
   "metadata": {},
   "outputs": [
    {
     "name": "stderr",
     "output_type": "stream",
     "text": [
      "Using TensorFlow backend.\n"
     ]
    }
   ],
   "source": [
    "import time, copy, random\n",
    "import numpy as np\n",
    "import pandas as pd\n",
    "from collections import deque\n",
    "\n",
    "import progressbar\n",
    "import gym\n",
    "import simglucose\n",
    "\n",
    "import tensorflow as tf\n",
    "import keras\n",
    "from keras.models import Sequential\n",
    "from keras.layers import Dense\n",
    "from keras.layers.normalization import BatchNormalization\n",
    "from keras import optimizers\n",
    "from keras.initializers import RandomNormal\n",
    "from keras.models import load_model\n",
    "%matplotlib inline\n",
    "import matplotlib.pyplot as plt\n",
    "\n",
    "from pandas.plotting import register_matplotlib_converters\n",
    "register_matplotlib_converters()"
   ]
  },
  {
   "cell_type": "code",
   "execution_count": 2,
   "metadata": {},
   "outputs": [],
   "source": [
    "class ExperienceReplay():\n",
    "    def __init__(self, tamano_minimo = 1000, tamano_maximo = 10**5, tamano_batch = 32, column_names = ['St', 'At', 'St+1', 'Rt+1', 'done']):\n",
    "        self.tamano_buffer = 0\n",
    "        self.indice = 0\n",
    "        self.tamano_batch = tamano_batch\n",
    "        self.tamano_minimo = tamano_minimo\n",
    "        self.tamano_maximo = tamano_maximo\n",
    "        self.columnas = column_names\n",
    "        \n",
    "        self.buffer = self.inicializarBuffer()\n",
    "        self.buffer.columns = column_names\n",
    "        #self.indices = range(self.tamano_maximo)\n",
    "    \n",
    "    def inicializarBuffer(self):\n",
    "        aux = pd.DataFrame(np.zeros((10**4,5)), dtype = 'object')\n",
    "        #aux = pd.DataFrame({'St': None, 'At': [np.array([0,0])],\n",
    "        #                   'Rt+1': [np.array([0,0])], 'St+1': [np.array([0,0])],\n",
    "        #                   'done': [np.array([0,0])]})\n",
    "        \n",
    "        buffer = []\n",
    "        \n",
    "        for i in range(int(self.tamano_maximo/10**4)):\n",
    "            buffer.append(aux)\n",
    "        \n",
    "        return pd.concat(buffer)\n",
    "    \n",
    "    def agregarDato(self, x, a, r, xp, d):\n",
    "        \n",
    "        if(self.indice == self.tamano_maximo):\n",
    "            self.indice = 0\n",
    "            \n",
    "        self.buffer.iloc[self.indice]['St'] = x\n",
    "        self.buffer.iloc[self.indice]['At'] = a\n",
    "        self.buffer.iloc[self.indice]['Rt+1'] = r\n",
    "        self.buffer.iloc[self.indice]['St+1'] = xp\n",
    "        self.buffer.iloc[self.indice]['done'] = d\n",
    "\n",
    "        self.indice +=1\n",
    "        \n",
    "        if self.tamano_buffer < self.tamano_maximo:\n",
    "            self.tamano_buffer += 1\n",
    "    \n",
    "    def darMuestras(self):\n",
    "        #indices = random.sample(self.indices[0:self.tamano_buffer], self.tamano_batch)\n",
    "        indices = random.sample(range(self.tamano_buffer), self.tamano_batch)\n",
    "        return self.buffer.iloc[indices]"
   ]
  },
  {
   "cell_type": "code",
   "execution_count": 3,
   "metadata": {
    "scrolled": true
   },
   "outputs": [],
   "source": [
    "# Codigo tomado de: https://github.com/jxx123/simglucose\n",
    "\n",
    "# Basal: Largo plazo\n",
    "# Bolus: Corto plazo\n",
    "\n",
    "# Register gym environment. By specifying kwargs,\n",
    "# you are able to choose which patient to simulate.\n",
    "# patient_name must be 'adolescent#001' to 'adolescent#010',\n",
    "# or 'adult#001' to 'adult#010', or 'child#001' to 'child#010'\n",
    "\n",
    "#Cada vez que se crea un env se construye de manera aleatoria\n",
    "#Por ejemplo, la cantidad de carbohidratos que se consumen y \n",
    "#el tiempo en el que se consumen es aleatoria.\n",
    "\n",
    "def calcular_risk(bg):\n",
    "    fBG = 1.509*((np.log(bg))**1.084 - 5.381)\n",
    "    \n",
    "    rBG = 10*(fBG**2)\n",
    "    \n",
    "    rlBG = rBG*(fBG < 0)\n",
    "    rhBG = rBG*(fBG > 0)\n",
    "    \n",
    "    LBGI, HBGI = rlBG, rhBG\n",
    "    \n",
    "    risk = LBGI + HBGI\n",
    "    \n",
    "    return risk\n",
    "\n",
    "def custom_reward(BG_last_hour):\n",
    "    \n",
    "    if BG_last_hour[-1] > 39:#and BG_last_hour[-1] < 250:\n",
    "        \n",
    "        risk_t = calcular_risk(BG_last_hour[-1])\n",
    "        risk_t_1 = calcular_risk(BG_last_hour[-2])\n",
    "        \n",
    "        reward = risk_t_1-risk_t\n",
    "    else:\n",
    "        reward = -10\n",
    "    \n",
    "    return reward\n",
    "    \n",
    "from gym.envs.registration import register\n",
    "register(\n",
    "    id='simglucose-adolescent2-v0',\n",
    "    entry_point='simglucose.envs:T1DSimEnv',\n",
    "    kwargs={'patient_name': 'adolescent#002', 'reward_fun': custom_reward}\n",
    ")"
   ]
  },
  {
   "cell_type": "code",
   "execution_count": 74,
   "metadata": {},
   "outputs": [
    {
     "data": {
      "text/plain": [
       "0.7262847623231422"
      ]
     },
     "execution_count": 74,
     "metadata": {},
     "output_type": "execute_result"
    }
   ],
   "source": [
    "calcular_risk(130)"
   ]
  },
  {
   "cell_type": "code",
   "execution_count": 7,
   "metadata": {},
   "outputs": [
    {
     "name": "stdout",
     "output_type": "stream",
     "text": [
      "20 µs ± 227 ns per loop (mean ± std. dev. of 7 runs, 10000 loops each)\n"
     ]
    }
   ],
   "source": [
    "%timeit custom_reward(np.array([90, 80]))"
   ]
  },
  {
   "cell_type": "code",
   "execution_count": 7,
   "metadata": {},
   "outputs": [],
   "source": [
    "#Creando redes neuronales\n",
    "\n",
    "def crearRedes(num_entrada, num_salida, n1 = 256, n2 = 256, learning_rate = 0.01):\n",
    "    init = RandomNormal(seed = 0)\n",
    "    \n",
    "    modelo = Sequential()\n",
    "    \n",
    "    modelo.add(Dense(n1, activation = 'relu', kernel_initializer = init, bias_initializer = init, input_dim = num_entrada))\n",
    "    modelo.add(BatchNormalization())\n",
    "    modelo.add(Dense(n2, activation = 'relu', kernel_initializer = init, bias_initializer = init))\n",
    "    #modelo.add(Dense(n2, activation = 'relu', kernel_initializer = init, bias_initializer = init))\n",
    "    modelo.add(BatchNormalization())\n",
    "    modelo.add(Dense(num_salida, activation = 'linear', kernel_initializer = init, bias_initializer = init))\n",
    "    \n",
    "    sgd = optimizers.sgd(lr = learning_rate)\n",
    "    \n",
    "    modelo.compile(loss = 'mean_squared_error', optimizer = sgd, metrics = ['accuracy'])\n",
    "    \n",
    "    return modelo, copy.deepcopy(modelo)\n",
    "\n",
    "def actualizarRedTarget(pRedPrincipal, pRedTarget):\n",
    "    \n",
    "    for i in range(len(pRedPrincipal.layers)):\n",
    "        pesosPrincipal = pRedPrincipal.layers[i].get_weights()\n",
    "        pesosTarget = pRedTarget.layers[i].get_weights()\n",
    "        \n",
    "        pesos = [tao*l1 + (1-tao)*l2 for l1, l2 in zip(pesosPrincipal, pesosTarget)]\n",
    "        \n",
    "        pRedTarget.layers[i].set_weights(pesos)\n",
    "\n",
    "def escogerAccion(pModelo, pX, pNumAcciones):\n",
    "    num = np.random.random()\n",
    "    \n",
    "    if(num <= epsilon):\n",
    "        ind = np.random.randint(0, pNumAcciones)\n",
    "        return ind\n",
    "    else:\n",
    "        #Esto creo que es como lento. Hacerlo mejor.\n",
    "        #Usando deque:\n",
    "        x = np.reshape(np.asarray(pX), (1,-1))\n",
    "        ind = np.argmax(pModelo.predict(x))\n",
    "        return ind\n",
    "    \n",
    "def convertirAccion(pAccion, pMaxAccion, pNumAcciones):\n",
    "    return pAccion*pMaxAccion/float(pNumAcciones)\n",
    "\n",
    "envName = 'simglucose-adolescent2-v0'"
   ]
  },
  {
   "cell_type": "code",
   "execution_count": 5,
   "metadata": {},
   "outputs": [
    {
     "data": {
      "text/plain": [
       "0.13506452244668338"
      ]
     },
     "execution_count": 5,
     "metadata": {},
     "output_type": "execute_result"
    }
   ],
   "source": [
    "0.998**1000"
   ]
  },
  {
   "cell_type": "code",
   "execution_count": 8,
   "metadata": {
    "scrolled": true
   },
   "outputs": [
    {
     "name": "stderr",
     "output_type": "stream",
     "text": [
      "100% (100 of 100) |######################| Elapsed Time: 0:00:01 Time:  0:00:01\n",
      "100% (1000 of 1000) |####################| Elapsed Time: 0:21:47 Time:  0:21:47\n"
     ]
    },
    {
     "data": {
      "image/png": "[encoded data removed]",
      "text/plain": [
       "<Figure size 720x288 with 1 Axes>"
      ]
     },
     "metadata": {
      "needs_background": "light"
     },
     "output_type": "display_data"
    },
    {
     "data": {
      "image/png": "[encoded data removed]",
      "text/plain": [
       "<Figure size 432x288 with 1 Axes>"
      ]
     },
     "metadata": {
      "needs_background": "light"
     },
     "output_type": "display_data"
    },
    {
     "data": {
      "image/png": "[encoded data removed]",
      "text/plain": [
       "<Figure size 720x288 with 1 Axes>"
      ]
     },
     "metadata": {
      "needs_background": "light"
     },
     "output_type": "display_data"
    },
    {
     "data": {
      "image/png": "[encoded data removed]",
      "text/plain": [
       "<Figure size 432x288 with 1 Axes>"
      ]
     },
     "metadata": {
      "needs_background": "light"
     },
     "output_type": "display_data"
    },
    {
     "name": "stdout",
     "output_type": "stream",
     "text": [
      "Total training time:  1309.15 seconds\n"
     ]
    }
   ],
   "source": [
    "np.random.seed(123)\n",
    "\n",
    "env = gym.make(envName)\n",
    "\n",
    "num_episodes = 1000\n",
    "num_steps = 200\n",
    "num_steps_train = 25\n",
    "epsilon = 1.0\n",
    "epsilon_decay = 0.998\n",
    "tao = 0.001\n",
    "gamma = 0.99\n",
    "batch_size = 128\n",
    "\n",
    "total_steps_log = []\n",
    "epsilon_log = []\n",
    "muestras_log = []\n",
    "rewards_acumulados = []\n",
    "rewards_promedio = []\n",
    "cantidad_steps_log = []\n",
    "\n",
    "buffer = ExperienceReplay(tamano_minimo = 100, tamano_batch = batch_size)\n",
    "\n",
    "num_estados = 60\n",
    "max_estados = num_estados\n",
    "\n",
    "num_acciones = 30\n",
    "max_accion = 30.0\n",
    "max_glucosa = 200.0\n",
    "max_cho = 30\n",
    "max_norm = [1/max_glucosa, 1/max_accion, 1/max_cho]\n",
    "\n",
    "reward_done = -1\n",
    "render = False\n",
    "\n",
    "red, red_target = crearRedes(learning_rate = 0.01, num_entrada = num_estados*3, num_salida = num_acciones)\n",
    "\n",
    "observation = env.reset()\n",
    "\n",
    "state_queue = deque([[observation[0], 0.0, 0.0]]*num_estados , maxlen = num_estados)\n",
    "\n",
    "initial_time = time.time()\n",
    "    \n",
    "with progressbar.ProgressBar(max_value = buffer.tamano_minimo) as bar:\n",
    "    s = 0\n",
    "    while s < buffer.tamano_minimo:\n",
    "    \n",
    "        #if False:\n",
    "        #    action = 0.0\n",
    "            \n",
    "        #    i = 0\n",
    "            \n",
    "        #    while i < max_estados:\n",
    "        #        observation, reward, done, info = env.step(action)\n",
    "                \n",
    "        #        state_queue.append([observation[0], action, info['meal']])\n",
    "                \n",
    "        #        i+=1\n",
    "                \n",
    "        state = np.array(state_queue)*max_norm\n",
    "        state = np.reshape(state, (1,-1))\n",
    "        action = np.random.randint(num_acciones)\n",
    "\n",
    "        observation, reward, done, info = env.step(convertirAccion(action, max_accion, num_acciones))\n",
    "        \n",
    "        state_queue.append([observation[0], action, info['meal']])\n",
    "        \n",
    "        next_state = np.array(state_queue)*max_norm\n",
    "        next_state = np.reshape(next_state, (1,-1))\n",
    "\n",
    "        if done and reward == -10:\n",
    "            env = gym.make(envName)\n",
    "            state_queue.clear()\n",
    "            observation = env.reset()\n",
    "            state_queue = deque([[observation[0], 0.0, 0.0]]*num_estados , maxlen = num_estados)\n",
    "        else:\n",
    "            buffer.agregarDato(copy.copy(state), action, reward, copy.copy(next_state), done)\n",
    "\n",
    "        s+=1\n",
    "        bar.update(s)\n",
    "\n",
    "for e in progressbar.progressbar(range(num_episodes)):\n",
    "    env = gym.make(envName)\n",
    "    \n",
    "    state_queue.clear()\n",
    "    \n",
    "    observation = env.reset()\n",
    "    state_queue = deque([[observation[0], 0.0, 0.0]]*num_estados , maxlen = num_estados)\n",
    "\n",
    "    rewardAcumulado = 0\n",
    "    cantidad_steps = num_steps\n",
    "    \n",
    "    s = 0\n",
    "    while s < num_steps:\n",
    "        \n",
    "        if render:\n",
    "            env.render(mode = \"human\")\n",
    "        \n",
    "        #if False:\n",
    "        #    action = 0.0\n",
    "\n",
    "        #    i = 0\n",
    "        #    while i < max_estados:\n",
    "        #        observation, reward, done, info = env.step(action)\n",
    "                \n",
    "        #        state_queue.append([observation[0], action, info['meal']])\n",
    "                \n",
    "        #        i+=1\n",
    "            \n",
    "        #    s+=max_estados\n",
    "        \n",
    "        if(np.random.random() <= epsilon):\n",
    "            action = np.random.randint(num_acciones)\n",
    "        else:\n",
    "            action = np.argmax(red.predict(state))\n",
    "            \n",
    "        state = np.array(state_queue)*max_norm\n",
    "        state = np.reshape(state, (1,-1))\n",
    "        \n",
    "        observation, reward, done, info = env.step(convertirAccion(action, max_accion, num_acciones))\n",
    "        \n",
    "        state_queue.append([observation[0], action, info['meal']])\n",
    "        \n",
    "        next_state = np.array(state_queue)*max_norm\n",
    "        next_state = np.reshape(next_state, (1,-1))\n",
    "\n",
    "        rewardAcumulado += reward\n",
    "        \n",
    "        s+=1\n",
    "        \n",
    "        if done and reward == -10:\n",
    "            cantidad_steps = s\n",
    "            break\n",
    "        else:\n",
    "            buffer.agregarDato(copy.copy(state), action, reward, copy.copy(next_state), done)\n",
    "    \n",
    "    suma_muestras = 0\n",
    "    i = 0\n",
    "    while i < num_steps_train:\n",
    "        \n",
    "        tm = time.time()\n",
    "        muestras = buffer.darMuestras()\n",
    "        suma_muestras += time.time()-tm\n",
    "\n",
    "        states = np.concatenate(muestras['St'].values)\n",
    "        \n",
    "        actions = muestras['At'].values\n",
    "        rewards = muestras['Rt+1'].values\n",
    "        \n",
    "        next_states = np.concatenate(muestras['St+1'].values)\n",
    "        \n",
    "        #dones = muestras['done'].values\n",
    "        \n",
    "        Q_values = red.predict(states)\n",
    "        \n",
    "        next_Q_values = red_target.predict(next_states)\n",
    "        targets = Q_values.copy()\n",
    "\n",
    "        targets[np.arange(buffer.tamano_batch), list(actions)] = rewards + gamma* np.max(next_Q_values, axis = 1)# * (1 - dones)\n",
    "\n",
    "        red.train_on_batch(states, targets)\n",
    "\n",
    "        actualizarRedTarget(red, red_target)\n",
    "        \n",
    "        i+=1\n",
    "        \n",
    "    suma_muestras *= 1/(cantidad_steps+1)\n",
    "    muestras_log.append(suma_muestras)\n",
    "    rewards_acumulados.append(rewardAcumulado)\n",
    "    rewards_promedio.append(rewardAcumulado/cantidad_steps)\n",
    "    \n",
    "    total_steps_log.append(s)\n",
    "    cantidad_steps_log.append(cantidad_steps)\n",
    "    epsilon_log.append(epsilon)\n",
    "    epsilon = epsilon_decay * epsilon\n",
    "\n",
    "total_training_time = time.time() - initial_time\n",
    "\n",
    "plt.figure(figsize=(10,4))\n",
    "\n",
    "plt.subplot(121)\n",
    "plt.plot(muestras_log)\n",
    "plt.xlabel('Episode')\n",
    "plt.ylabel('Tiempo Muestra (seg)')\n",
    "plt.show()\n",
    "\n",
    "plt.subplot(122)\n",
    "plt.plot(epsilon_log)\n",
    "plt.xlabel('Episode')\n",
    "plt.ylabel('Epsilon')\n",
    "plt.show()\n",
    "\n",
    "plt.figure(figsize=(10,4))\n",
    "\n",
    "plt.subplot(121)\n",
    "plt.plot(rewards_acumulados, color = 'b', label = \"Reward Acumulado\")\n",
    "#plt.plot(rewards_promedio, color = 'r', label = \"Reward Promedio\")\n",
    "plt.legend()\n",
    "plt.xlabel('Episode')\n",
    "plt.ylabel('Reward')\n",
    "plt.show()\n",
    "\n",
    "plt.subplot(122)\n",
    "plt.plot(cantidad_steps_log)\n",
    "plt.xlabel('Episode')\n",
    "plt.ylabel('Cantidad Steps')\n",
    "plt.show()\n",
    "\n",
    "print('Total training time: ', np.round(total_training_time, 2), 'seconds')"
   ]
  },
  {
   "cell_type": "code",
   "execution_count": 16,
   "metadata": {},
   "outputs": [
    {
     "data": {
      "text/plain": [
       "Observation(CGM=141.25506027696082)"
      ]
     },
     "execution_count": 16,
     "metadata": {},
     "output_type": "execute_result"
    }
   ],
   "source": []
  },
  {
   "cell_type": "code",
   "execution_count": null,
   "metadata": {
    "scrolled": true
   },
   "outputs": [
    {
     "name": "stderr",
     "output_type": "stream",
     "text": [
      "100% (512 of 512) |######################| Elapsed Time: 0:00:12 Time:  0:00:12\n",
      " 69% (695 of 1000) |##############       | Elapsed Time: 0:10:36 ETA:   0:04:10"
     ]
    }
   ],
   "source": [
    "np.random.seed(123)\n",
    "\n",
    "env = gym.make(envName)\n",
    "\n",
    "num_episodes = 1000\n",
    "num_steps = 200\n",
    "num_steps_train = 25\n",
    "epsilon = 1.0\n",
    "epsilon_decay = 0.998\n",
    "tao = 0.001\n",
    "gamma = 0.99\n",
    "batch_size = 128\n",
    "\n",
    "total_steps_log = []\n",
    "epsilon_log = []\n",
    "muestras_log = []\n",
    "rewards_acumulados = []\n",
    "rewards_promedio = []\n",
    "cantidad_steps_log = []\n",
    "\n",
    "buffer = ExperienceReplay(tamano_minimo = 128*4, tamano_batch = batch_size)\n",
    "\n",
    "num_estados = 13\n",
    "max_estados = 13\n",
    "num_acciones = 30\n",
    "max_accion = 30.0\n",
    "max_glucosa = 200.0\n",
    "max_cho = 30\n",
    "max_norm = [1/max_glucosa, 1/max_accion, 1/max_cho]\n",
    "\n",
    "reward_done = -1\n",
    "render = False\n",
    "\n",
    "red, red_target = crearRedes(learning_rate = 0.01, num_entrada = num_estados, num_salida = num_acciones)\n",
    "\n",
    "observation = env.reset()\n",
    "observation, reward, done, info = env.step(0.0)\n",
    "state = np.reshape(info['patient_state'], (1, -1))\n",
    "\n",
    "initial_time = time.time()\n",
    "    \n",
    "with progressbar.ProgressBar(max_value = buffer.tamano_minimo) as bar:\n",
    "    s = 0\n",
    "    while s < buffer.tamano_minimo:\n",
    "\n",
    "        action = np.random.randint(num_acciones)\n",
    "\n",
    "        observation, reward, done, info = env.step(convertirAccion(action, max_accion, num_acciones))\n",
    "        \n",
    "        next_state = np.reshape(info['patient_state'], (1, -1))\n",
    "\n",
    "        buffer.agregarDato(copy.copy(state), action, reward, copy.copy(next_state), done)\n",
    "        state = next_state\n",
    "\n",
    "        bar.update(s)\n",
    "        \n",
    "        s+=1\n",
    "        \n",
    "        if done and reward == -10:\n",
    "            env = gym.make(envName)\n",
    "            observation = env.reset()\n",
    "            observation, reward, done, info = env.step(0.0)\n",
    "            state = np.reshape(info['patient_state'], (1, -1))\n",
    "        else:\n",
    "            buffer.agregarDato(copy.copy(state), action, reward, copy.copy(next_state), done)\n",
    "            state = next_state\n",
    "\n",
    "        \n",
    "for e in progressbar.progressbar(range(num_episodes)):\n",
    "    env = gym.make(envName)\n",
    "    \n",
    "    observation = env.reset()\n",
    "    observation, reward, done, info = env.step(0.0)\n",
    "    state = np.reshape(info['patient_state'], (1, -1))\n",
    "\n",
    "    rewardAcumulado = 0\n",
    "    cantidad_steps = num_steps\n",
    "    \n",
    "    s = 0\n",
    "    while s < num_steps:\n",
    "        \n",
    "        if render:\n",
    "            env.render(mode = \"human\")\n",
    "\n",
    "        if(np.random.random() <= epsilon):\n",
    "            action = np.random.randint(num_acciones)\n",
    "        else:\n",
    "            action = np.argmax(red.predict(state))\n",
    "\n",
    "        observation, reward, done, info = env.step(convertirAccion(action, max_accion, num_acciones))\n",
    "        \n",
    "        next_state = np.reshape(info['patient_state'], (1, -1))\n",
    "\n",
    "        rewardAcumulado += reward\n",
    "        \n",
    "        buffer.agregarDato(copy.copy(state), action, reward, copy.copy(next_state), done)\n",
    "        \n",
    "        s+=1\n",
    "        \n",
    "        if done and reward == -10:\n",
    "            cantidad_steps = s\n",
    "            break\n",
    "        else:\n",
    "            buffer.agregarDato(copy.copy(state), action, reward, copy.copy(next_state), done)\n",
    "            state = next_state\n",
    "    \n",
    "    \n",
    "    suma_muestras = 0\n",
    "    i = 0\n",
    "    while i < num_steps_train:\n",
    "        \n",
    "        tm = time.time()\n",
    "        muestras = buffer.darMuestras()\n",
    "        suma_muestras += time.time()-tm\n",
    "\n",
    "        states = np.concatenate(muestras['St'].values)\n",
    "        \n",
    "        actions = muestras['At'].values\n",
    "        rewards = muestras['Rt+1'].values\n",
    "        \n",
    "        next_states = np.concatenate(muestras['St+1'].values)\n",
    "        \n",
    "        Q_values = red.predict(states)\n",
    "        \n",
    "        next_Q_values = red_target.predict(next_states)\n",
    "        targets = Q_values.copy()\n",
    "\n",
    "        targets[np.arange(buffer.tamano_batch), list(actions)] = rewards + gamma* np.max(next_Q_values, axis = 1)\n",
    "\n",
    "        red.train_on_batch(states, targets)\n",
    "\n",
    "        actualizarRedTarget(red, red_target)\n",
    "        \n",
    "        i+=1\n",
    "        \n",
    "    suma_muestras *= 1/(cantidad_steps+1)\n",
    "    muestras_log.append(suma_muestras)\n",
    "    rewards_acumulados.append(rewardAcumulado)\n",
    "    rewards_promedio.append(rewardAcumulado/cantidad_steps)\n",
    "    \n",
    "    total_steps_log.append(s)\n",
    "    cantidad_steps_log.append(cantidad_steps)\n",
    "    epsilon_log.append(epsilon)\n",
    "    epsilon = epsilon_decay * epsilon\n",
    "\n",
    "total_training_time = time.time() - initial_time\n",
    "\n",
    "plt.figure(figsize=(10,4))\n",
    "\n",
    "plt.subplot(121)\n",
    "plt.plot(muestras_log)\n",
    "plt.xlabel('Episode')\n",
    "plt.ylabel('Tiempo Muestra (seg)')\n",
    "plt.show()\n",
    "\n",
    "plt.subplot(122)\n",
    "plt.plot(epsilon_log)\n",
    "plt.xlabel('Episode')\n",
    "plt.ylabel('Epsilon')\n",
    "plt.show()\n",
    "\n",
    "plt.figure(figsize=(10,4))\n",
    "\n",
    "plt.subplot(121)\n",
    "plt.plot(rewards_acumulados, color = 'b', label = \"Reward Acumulado\")\n",
    "#plt.plot(rewards_promedio, color = 'r', label = \"Reward Promedio\")\n",
    "plt.legend()\n",
    "plt.xlabel('Episode')\n",
    "plt.ylabel('Reward')\n",
    "plt.show()\n",
    "\n",
    "plt.subplot(122)\n",
    "plt.plot(cantidad_steps_log)\n",
    "plt.xlabel('Episode')\n",
    "plt.ylabel('Cantidad Steps')\n",
    "plt.show()\n",
    "\n",
    "print('Total training time: ', np.round(total_training_time, 2), 'seconds')"
   ]
  },
  {
   "cell_type": "code",
   "execution_count": 19,
   "metadata": {},
   "outputs": [
    {
     "data": {
      "text/plain": [
       "121"
      ]
     },
     "execution_count": 19,
     "metadata": {},
     "output_type": "execute_result"
    }
   ],
   "source": [
    "buffer.tamano_buffer"
   ]
  },
  {
   "cell_type": "markdown",
   "metadata": {},
   "source": [
    "# Probando el Agente"
   ]
  },
  {
   "cell_type": "markdown",
   "metadata": {},
   "source": [
    "# Con Estado de Ventana de Tiempo"
   ]
  },
  {
   "cell_type": "code",
   "execution_count": 9,
   "metadata": {},
   "outputs": [
    {
     "name": "stdout",
     "output_type": "stream",
     "text": [
      "57.8 ns ± 0.0939 ns per loop (mean ± std. dev. of 7 runs, 10000000 loops each)\n"
     ]
    }
   ],
   "source": [
    "env = gym.make(envName)\n",
    "observation = env.reset()\n",
    "\n",
    "state_queue = deque([[observation[0], 0.0, 0.0]]*num_estados, maxlen = num_estados)\n",
    "    \n",
    "num_steps_test = 200\n",
    "\n",
    "s = 0\n",
    "rewards = []\n",
    "\n",
    "for s in progressbar.progressbar(range(num_steps_test)):\n",
    "    env.render(mode='human')\n",
    "    \n",
    "    state = np.array(state_queue)*max_norm\n",
    "    state = np.reshape(state, (1,-1))\n",
    "    \n",
    "    action = np.argmax(red.predict(state))\n",
    "    #action = 0.0\n",
    "    \n",
    "    observation, reward, done, info = env.step(action)\n",
    "    state_queue.append([observation[0], action, info['meal']])\n",
    "    rewards.append(reward)\n",
    "    \n",
    "    #if done:\n",
    "        #print(\"Episode finished after {} timesteps\".format(s + 1))\n",
    "        #print(reward)\n",
    "        #break\n",
    "\n",
    "fig = plt.figure(2, (8,8))\n",
    "plt.plot(rewards)"
   ]
  },
  {
   "cell_type": "markdown",
   "metadata": {},
   "source": [
    "# Con Estado del Paciente"
   ]
  },
  {
   "cell_type": "code",
   "execution_count": null,
   "metadata": {
    "scrolled": true
   },
   "outputs": [],
   "source": [
    "env = gym.make(envName)\n",
    "\n",
    "observation = env.reset()\n",
    "observation, reward, done, info = env.step(0.0)\n",
    "state = np.reshape(info['patient_state'], (1, -1))\n",
    "    \n",
    "num_steps_test = 200\n",
    "\n",
    "s = 0\n",
    "rewards = []\n",
    "\n",
    "for s in progressbar.progressbar(range(num_steps_test)):\n",
    "    env.render(mode='human')\n",
    "    \n",
    "    action = np.argmax(red.predict(state))\n",
    "    \n",
    "    a = convertirAccion(action, max_accion, num_acciones)\n",
    "    \n",
    "    observation, reward, done, info = env.step(action)\n",
    "    state = np.reshape(info['patient_state'], (1, -1))\n",
    "    rewards.append(reward)\n",
    "    \n",
    "    #if done:\n",
    "        #print(\"Episode finished after {} timesteps\".format(s + 1))\n",
    "        #print(reward)\n",
    "        #break\n",
    "\n",
    "fig = plt.figure(2, (6,6))\n",
    "plt.plot(rewards)"
   ]
  },
  {
   "cell_type": "code",
   "execution_count": 26,
   "metadata": {},
   "outputs": [
    {
     "data": {
      "text/plain": [
       "(13,)"
      ]
     },
     "execution_count": 26,
     "metadata": {},
     "output_type": "execute_result"
    }
   ],
   "source": [
    "info['patient_state'].shape"
   ]
  },
  {
   "cell_type": "code",
   "execution_count": 29,
   "metadata": {},
   "outputs": [],
   "source": [
    "def f():\n",
    "    yield -1\n",
    "    yield 2\n",
    "    \n",
    "def g(b):\n",
    "    if b:\n",
    "        return -1\n",
    "    else:\n",
    "        return -2"
   ]
  },
  {
   "cell_type": "code",
   "execution_count": 41,
   "metadata": {},
   "outputs": [
    {
     "name": "stdout",
     "output_type": "stream",
     "text": [
      "18.2 ns ± 4.08 ns per loop (mean ± std. dev. of 7 runs, 100000000 loops each)\n",
      "24.8 ns ± 0.559 ns per loop (mean ± std. dev. of 7 runs, 10000000 loops each)\n",
      "24 ns ± 0.25 ns per loop (mean ± std. dev. of 7 runs, 10000000 loops each)\n"
     ]
    }
   ],
   "source": [
    "def f2():\n",
    "    test = f\n",
    "    a = test.__next__()\n",
    "    b = test.__next__()\n",
    "    \n",
    "#%timeit f2\n",
    "\n",
    "def g2():\n",
    "    a = g(True)\n",
    "    b = g(False)\n",
    "    \n",
    "#%timeit g2\n",
    "\n",
    "def r():\n",
    "    return 2*5*-4\n",
    "\n",
    "%timeit r"
   ]
  },
  {
   "cell_type": "code",
   "execution_count": 9,
   "metadata": {
    "scrolled": true
   },
   "outputs": [
    {
     "name": "stdout",
     "output_type": "stream",
     "text": [
      "[[0.195      0.86666667 0.         0.195      0.86666667 0.\n",
      "  0.195      0.86666667 0.         0.195      0.86666667 0.\n",
      "  0.195      0.86666667 0.         0.195      0.86666667 0.\n",
      "  0.195      0.86666667 0.         0.195      0.86666667 0.\n",
      "  0.195      0.86666667 0.         0.195      0.86666667 0.\n",
      "  0.195      0.86666667 0.         0.195      0.86666667 0.\n",
      "  0.195      0.86666667 0.         0.195      0.86666667 0.\n",
      "  0.195      0.86666667 0.         0.195      0.86666667 0.\n",
      "  0.195      0.86666667 0.         0.195      0.86666667 0.\n",
      "  0.195      0.86666667 0.         0.195      0.86666667 0.\n",
      "  0.195      0.86666667 0.         0.195      0.86666667 0.\n",
      "  0.195      0.86666667 0.         0.195      0.86666667 0.\n",
      "  0.195      0.86666667 0.         0.195      0.86666667 0.\n",
      "  0.195      0.86666667 0.         0.195      0.86666667 0.\n",
      "  0.195      0.86666667 0.         0.195      0.86666667 0.\n",
      "  0.195      0.86666667 0.         0.195      0.86666667 0.\n",
      "  0.195      0.86666667 0.         0.195      0.86666667 0.\n",
      "  0.195      0.86666667 0.         0.195      0.86666667 0.\n",
      "  0.195      0.86666667 0.         0.195      0.86666667 0.\n",
      "  0.195      0.86666667 0.         0.195      0.86666667 0.        ]]\n",
      "26\n",
      "[[-0.01215656 -0.02963235 -0.01873499 -0.09158006 -0.017073   -0.02620418\n",
      "  -0.10862791 -0.00173736  0.09701335  0.09677331  0.02931113 -0.06538622\n",
      "  -0.14914483  0.00847932  0.02651744 -0.03752121 -0.0531727  -0.01131498\n",
      "  -0.0998528  -0.07013339 -0.05636447  0.03766196 -0.17734814  0.0702364\n",
      "   0.03315391  0.16641097  0.17123137 -0.05665679 -0.07129656 -0.2420297 ]]\n"
     ]
    }
   ],
   "source": [
    "print(state)\n",
    "print(np.argmax(red.predict(state)))\n",
    "print(red.predict(state))"
   ]
  },
  {
   "cell_type": "markdown",
   "metadata": {},
   "source": [
    "# Guardar las redes"
   ]
  },
  {
   "cell_type": "code",
   "execution_count": 13,
   "metadata": {},
   "outputs": [],
   "source": [
    "def guardarModelo(pModelo, pRutaModelo):\n",
    "    pModelo.save(pRutaModelo)"
   ]
  },
  {
   "cell_type": "code",
   "execution_count": 12,
   "metadata": {},
   "outputs": [
    {
     "ename": "NameError",
     "evalue": "name 'guardarModelo' is not defined",
     "output_type": "error",
     "traceback": [
      "\u001b[0;31m---------------------------------------------------------------------------\u001b[0m",
      "\u001b[0;31mNameError\u001b[0m                                 Traceback (most recent call last)",
      "\u001b[0;32m<ipython-input-12-d1f9dc934e73>\u001b[0m in \u001b[0;36m<module>\u001b[0;34m\u001b[0m\n\u001b[1;32m     20\u001b[0m \u001b[0;31m#La 22 va 2000 episodios con un estado de 120 valores\u001b[0m\u001b[0;34m\u001b[0m\u001b[0;34m\u001b[0m\u001b[0;34m\u001b[0m\u001b[0m\n\u001b[1;32m     21\u001b[0m \u001b[0;34m\u001b[0m\u001b[0m\n\u001b[0;32m---> 22\u001b[0;31m \u001b[0mguardarModelo\u001b[0m\u001b[0;34m(\u001b[0m\u001b[0mred\u001b[0m\u001b[0;34m,\u001b[0m \u001b[0mruta_modelo\u001b[0m\u001b[0;34m)\u001b[0m\u001b[0;34m\u001b[0m\u001b[0;34m\u001b[0m\u001b[0m\n\u001b[0m\u001b[1;32m     23\u001b[0m \u001b[0mguardarModelo\u001b[0m\u001b[0;34m(\u001b[0m\u001b[0mred_target\u001b[0m\u001b[0;34m,\u001b[0m \u001b[0mruta_modelo_target\u001b[0m\u001b[0;34m)\u001b[0m\u001b[0;34m\u001b[0m\u001b[0;34m\u001b[0m\u001b[0m\n",
      "\u001b[0;31mNameError\u001b[0m: name 'guardarModelo' is not defined"
     ]
    }
   ],
   "source": [
    "ruta_modelo = \"./modelos/red_new_17.h5\"\n",
    "ruta_modelo_target = \"./modelos/red_target_new_17.h5\"\n",
    "\n",
    "#Las red_new 5, 6 son las que mejor han funcionado\n",
    "#La 8 es la segunda mejor hasta ahora.\n",
    "#La 9 es la mejor hasta ahora.\n",
    "#La 10 no sirve para nada\n",
    "#La 11 no esta mal pero toca entrenar con mas steps (por ahi 200).\n",
    "#La 12 aun no funciona bien. Entrenar mas.\n",
    "#De la 14 en adelante ahora se entrena creando aleatoriamente el environment cada vez que lo reinicia.\n",
    "#La 15 no está mal pero inyecta insulina cuando el azucar esta por debajo de maso 60 (yo creo que es\n",
    "#por lo que el episodio termina ahi, entonces no logra aprender que no tiene que inyectar ahi. Puedo\n",
    "#probar cambiando la reward function)\n",
    "#La 16 es similar a la 15.\n",
    "#La 17 es sin armar el estado al comienzo, sino que inicializandolo en valores constantes.\n",
    "#La 18 usa la nueva funcion de reward. Se ve prometedora.\n",
    "#La 19 va 32500 episodios.\n",
    "#La 20 va 1000 episodios y tiene un estado con 80 valores.\n",
    "#La 21 va 3000 episodios con un estado de 80 valores.\n",
    "#La 22 va 2000 episodios con un estado de 120 valores\n",
    "\n",
    "guardarModelo(red, ruta_modelo)\n",
    "guardarModelo(red_target, ruta_modelo_target)"
   ]
  },
  {
   "cell_type": "code",
   "execution_count": 13,
   "metadata": {},
   "outputs": [
    {
     "ename": "OSError",
     "evalue": "Unable to open file (unable to open file: name = './modelos/red_new_17.h5', errno = 2, error message = 'No such file or directory', flags = 0, o_flags = 0)",
     "output_type": "error",
     "traceback": [
      "\u001b[0;31m---------------------------------------------------------------------------\u001b[0m",
      "\u001b[0;31mOSError\u001b[0m                                   Traceback (most recent call last)",
      "\u001b[0;32m<ipython-input-13-0fcdf4208d80>\u001b[0m in \u001b[0;36m<module>\u001b[0;34m\u001b[0m\n\u001b[1;32m      2\u001b[0m \u001b[0mruta_modelo_target\u001b[0m \u001b[0;34m=\u001b[0m \u001b[0;34m\"./modelos/red_target_new_17.h5\"\u001b[0m\u001b[0;34m\u001b[0m\u001b[0;34m\u001b[0m\u001b[0m\n\u001b[1;32m      3\u001b[0m \u001b[0;34m\u001b[0m\u001b[0m\n\u001b[0;32m----> 4\u001b[0;31m \u001b[0mred\u001b[0m \u001b[0;34m=\u001b[0m \u001b[0mload_model\u001b[0m\u001b[0;34m(\u001b[0m\u001b[0mruta_modelo\u001b[0m\u001b[0;34m)\u001b[0m\u001b[0;34m\u001b[0m\u001b[0;34m\u001b[0m\u001b[0m\n\u001b[0m\u001b[1;32m      5\u001b[0m \u001b[0mred_target\u001b[0m \u001b[0;34m=\u001b[0m \u001b[0mload_model\u001b[0m\u001b[0;34m(\u001b[0m\u001b[0mruta_modelo_target\u001b[0m\u001b[0;34m)\u001b[0m\u001b[0;34m\u001b[0m\u001b[0;34m\u001b[0m\u001b[0m\n",
      "\u001b[0;32m~/tf/lib/python3.6/site-packages/keras/engine/saving.py\u001b[0m in \u001b[0;36mload_wrapper\u001b[0;34m(*args, **kwargs)\u001b[0m\n\u001b[1;32m    490\u001b[0m                 \u001b[0mos\u001b[0m\u001b[0;34m.\u001b[0m\u001b[0mremove\u001b[0m\u001b[0;34m(\u001b[0m\u001b[0mtmp_filepath\u001b[0m\u001b[0;34m)\u001b[0m\u001b[0;34m\u001b[0m\u001b[0;34m\u001b[0m\u001b[0m\n\u001b[1;32m    491\u001b[0m             \u001b[0;32mreturn\u001b[0m \u001b[0mres\u001b[0m\u001b[0;34m\u001b[0m\u001b[0;34m\u001b[0m\u001b[0m\n\u001b[0;32m--> 492\u001b[0;31m         \u001b[0;32mreturn\u001b[0m \u001b[0mload_function\u001b[0m\u001b[0;34m(\u001b[0m\u001b[0;34m*\u001b[0m\u001b[0margs\u001b[0m\u001b[0;34m,\u001b[0m \u001b[0;34m**\u001b[0m\u001b[0mkwargs\u001b[0m\u001b[0;34m)\u001b[0m\u001b[0;34m\u001b[0m\u001b[0;34m\u001b[0m\u001b[0m\n\u001b[0m\u001b[1;32m    493\u001b[0m \u001b[0;34m\u001b[0m\u001b[0m\n\u001b[1;32m    494\u001b[0m     \u001b[0;32mreturn\u001b[0m \u001b[0mload_wrapper\u001b[0m\u001b[0;34m\u001b[0m\u001b[0;34m\u001b[0m\u001b[0m\n",
      "\u001b[0;32m~/tf/lib/python3.6/site-packages/keras/engine/saving.py\u001b[0m in \u001b[0;36mload_model\u001b[0;34m(filepath, custom_objects, compile)\u001b[0m\n\u001b[1;32m    581\u001b[0m \u001b[0;34m\u001b[0m\u001b[0m\n\u001b[1;32m    582\u001b[0m     \u001b[0;32mif\u001b[0m \u001b[0mH5Dict\u001b[0m\u001b[0;34m.\u001b[0m\u001b[0mis_supported_type\u001b[0m\u001b[0;34m(\u001b[0m\u001b[0mfilepath\u001b[0m\u001b[0;34m)\u001b[0m\u001b[0;34m:\u001b[0m\u001b[0;34m\u001b[0m\u001b[0;34m\u001b[0m\u001b[0m\n\u001b[0;32m--> 583\u001b[0;31m         \u001b[0;32mwith\u001b[0m \u001b[0mH5Dict\u001b[0m\u001b[0;34m(\u001b[0m\u001b[0mfilepath\u001b[0m\u001b[0;34m,\u001b[0m \u001b[0mmode\u001b[0m\u001b[0;34m=\u001b[0m\u001b[0;34m'r'\u001b[0m\u001b[0;34m)\u001b[0m \u001b[0;32mas\u001b[0m \u001b[0mh5dict\u001b[0m\u001b[0;34m:\u001b[0m\u001b[0;34m\u001b[0m\u001b[0;34m\u001b[0m\u001b[0m\n\u001b[0m\u001b[1;32m    584\u001b[0m             \u001b[0mmodel\u001b[0m \u001b[0;34m=\u001b[0m \u001b[0m_deserialize_model\u001b[0m\u001b[0;34m(\u001b[0m\u001b[0mh5dict\u001b[0m\u001b[0;34m,\u001b[0m \u001b[0mcustom_objects\u001b[0m\u001b[0;34m,\u001b[0m \u001b[0mcompile\u001b[0m\u001b[0;34m)\u001b[0m\u001b[0;34m\u001b[0m\u001b[0;34m\u001b[0m\u001b[0m\n\u001b[1;32m    585\u001b[0m     \u001b[0;32melif\u001b[0m \u001b[0mhasattr\u001b[0m\u001b[0;34m(\u001b[0m\u001b[0mfilepath\u001b[0m\u001b[0;34m,\u001b[0m \u001b[0;34m'write'\u001b[0m\u001b[0;34m)\u001b[0m \u001b[0;32mand\u001b[0m \u001b[0mcallable\u001b[0m\u001b[0;34m(\u001b[0m\u001b[0mfilepath\u001b[0m\u001b[0;34m.\u001b[0m\u001b[0mwrite\u001b[0m\u001b[0;34m)\u001b[0m\u001b[0;34m:\u001b[0m\u001b[0;34m\u001b[0m\u001b[0;34m\u001b[0m\u001b[0m\n",
      "\u001b[0;32m~/tf/lib/python3.6/site-packages/keras/utils/io_utils.py\u001b[0m in \u001b[0;36m__init__\u001b[0;34m(self, path, mode)\u001b[0m\n\u001b[1;32m    189\u001b[0m             \u001b[0mself\u001b[0m\u001b[0;34m.\u001b[0m\u001b[0m_is_file\u001b[0m \u001b[0;34m=\u001b[0m \u001b[0;32mFalse\u001b[0m\u001b[0;34m\u001b[0m\u001b[0;34m\u001b[0m\u001b[0m\n\u001b[1;32m    190\u001b[0m         \u001b[0;32melif\u001b[0m \u001b[0misinstance\u001b[0m\u001b[0;34m(\u001b[0m\u001b[0mpath\u001b[0m\u001b[0;34m,\u001b[0m \u001b[0msix\u001b[0m\u001b[0;34m.\u001b[0m\u001b[0mstring_types\u001b[0m\u001b[0;34m)\u001b[0m \u001b[0;32mor\u001b[0m \u001b[0m_is_path_instance\u001b[0m\u001b[0;34m(\u001b[0m\u001b[0mpath\u001b[0m\u001b[0;34m)\u001b[0m\u001b[0;34m:\u001b[0m\u001b[0;34m\u001b[0m\u001b[0;34m\u001b[0m\u001b[0m\n\u001b[0;32m--> 191\u001b[0;31m             \u001b[0mself\u001b[0m\u001b[0;34m.\u001b[0m\u001b[0mdata\u001b[0m \u001b[0;34m=\u001b[0m \u001b[0mh5py\u001b[0m\u001b[0;34m.\u001b[0m\u001b[0mFile\u001b[0m\u001b[0;34m(\u001b[0m\u001b[0mpath\u001b[0m\u001b[0;34m,\u001b[0m \u001b[0mmode\u001b[0m\u001b[0;34m=\u001b[0m\u001b[0mmode\u001b[0m\u001b[0;34m)\u001b[0m\u001b[0;34m\u001b[0m\u001b[0;34m\u001b[0m\u001b[0m\n\u001b[0m\u001b[1;32m    192\u001b[0m             \u001b[0mself\u001b[0m\u001b[0;34m.\u001b[0m\u001b[0m_is_file\u001b[0m \u001b[0;34m=\u001b[0m \u001b[0;32mTrue\u001b[0m\u001b[0;34m\u001b[0m\u001b[0;34m\u001b[0m\u001b[0m\n\u001b[1;32m    193\u001b[0m         \u001b[0;32melif\u001b[0m \u001b[0misinstance\u001b[0m\u001b[0;34m(\u001b[0m\u001b[0mpath\u001b[0m\u001b[0;34m,\u001b[0m \u001b[0mdict\u001b[0m\u001b[0;34m)\u001b[0m\u001b[0;34m:\u001b[0m\u001b[0;34m\u001b[0m\u001b[0;34m\u001b[0m\u001b[0m\n",
      "\u001b[0;32m~/tf/lib/python3.6/site-packages/h5py/_hl/files.py\u001b[0m in \u001b[0;36m__init__\u001b[0;34m(self, name, mode, driver, libver, userblock_size, swmr, rdcc_nslots, rdcc_nbytes, rdcc_w0, track_order, **kwds)\u001b[0m\n\u001b[1;32m    406\u001b[0m                 fid = make_fid(name, mode, userblock_size,\n\u001b[1;32m    407\u001b[0m                                \u001b[0mfapl\u001b[0m\u001b[0;34m,\u001b[0m \u001b[0mfcpl\u001b[0m\u001b[0;34m=\u001b[0m\u001b[0mmake_fcpl\u001b[0m\u001b[0;34m(\u001b[0m\u001b[0mtrack_order\u001b[0m\u001b[0;34m=\u001b[0m\u001b[0mtrack_order\u001b[0m\u001b[0;34m)\u001b[0m\u001b[0;34m,\u001b[0m\u001b[0;34m\u001b[0m\u001b[0;34m\u001b[0m\u001b[0m\n\u001b[0;32m--> 408\u001b[0;31m                                swmr=swmr)\n\u001b[0m\u001b[1;32m    409\u001b[0m \u001b[0;34m\u001b[0m\u001b[0m\n\u001b[1;32m    410\u001b[0m             \u001b[0;32mif\u001b[0m \u001b[0misinstance\u001b[0m\u001b[0;34m(\u001b[0m\u001b[0mlibver\u001b[0m\u001b[0;34m,\u001b[0m \u001b[0mtuple\u001b[0m\u001b[0;34m)\u001b[0m\u001b[0;34m:\u001b[0m\u001b[0;34m\u001b[0m\u001b[0;34m\u001b[0m\u001b[0m\n",
      "\u001b[0;32m~/tf/lib/python3.6/site-packages/h5py/_hl/files.py\u001b[0m in \u001b[0;36mmake_fid\u001b[0;34m(name, mode, userblock_size, fapl, fcpl, swmr)\u001b[0m\n\u001b[1;32m    171\u001b[0m         \u001b[0;32mif\u001b[0m \u001b[0mswmr\u001b[0m \u001b[0;32mand\u001b[0m \u001b[0mswmr_support\u001b[0m\u001b[0;34m:\u001b[0m\u001b[0;34m\u001b[0m\u001b[0;34m\u001b[0m\u001b[0m\n\u001b[1;32m    172\u001b[0m             \u001b[0mflags\u001b[0m \u001b[0;34m|=\u001b[0m \u001b[0mh5f\u001b[0m\u001b[0;34m.\u001b[0m\u001b[0mACC_SWMR_READ\u001b[0m\u001b[0;34m\u001b[0m\u001b[0;34m\u001b[0m\u001b[0m\n\u001b[0;32m--> 173\u001b[0;31m         \u001b[0mfid\u001b[0m \u001b[0;34m=\u001b[0m \u001b[0mh5f\u001b[0m\u001b[0;34m.\u001b[0m\u001b[0mopen\u001b[0m\u001b[0;34m(\u001b[0m\u001b[0mname\u001b[0m\u001b[0;34m,\u001b[0m \u001b[0mflags\u001b[0m\u001b[0;34m,\u001b[0m \u001b[0mfapl\u001b[0m\u001b[0;34m=\u001b[0m\u001b[0mfapl\u001b[0m\u001b[0;34m)\u001b[0m\u001b[0;34m\u001b[0m\u001b[0;34m\u001b[0m\u001b[0m\n\u001b[0m\u001b[1;32m    174\u001b[0m     \u001b[0;32melif\u001b[0m \u001b[0mmode\u001b[0m \u001b[0;34m==\u001b[0m \u001b[0;34m'r+'\u001b[0m\u001b[0;34m:\u001b[0m\u001b[0;34m\u001b[0m\u001b[0;34m\u001b[0m\u001b[0m\n\u001b[1;32m    175\u001b[0m         \u001b[0mfid\u001b[0m \u001b[0;34m=\u001b[0m \u001b[0mh5f\u001b[0m\u001b[0;34m.\u001b[0m\u001b[0mopen\u001b[0m\u001b[0;34m(\u001b[0m\u001b[0mname\u001b[0m\u001b[0;34m,\u001b[0m \u001b[0mh5f\u001b[0m\u001b[0;34m.\u001b[0m\u001b[0mACC_RDWR\u001b[0m\u001b[0;34m,\u001b[0m \u001b[0mfapl\u001b[0m\u001b[0;34m=\u001b[0m\u001b[0mfapl\u001b[0m\u001b[0;34m)\u001b[0m\u001b[0;34m\u001b[0m\u001b[0;34m\u001b[0m\u001b[0m\n",
      "\u001b[0;32mh5py/_objects.pyx\u001b[0m in \u001b[0;36mh5py._objects.with_phil.wrapper\u001b[0;34m()\u001b[0m\n",
      "\u001b[0;32mh5py/_objects.pyx\u001b[0m in \u001b[0;36mh5py._objects.with_phil.wrapper\u001b[0;34m()\u001b[0m\n",
      "\u001b[0;32mh5py/h5f.pyx\u001b[0m in \u001b[0;36mh5py.h5f.open\u001b[0;34m()\u001b[0m\n",
      "\u001b[0;31mOSError\u001b[0m: Unable to open file (unable to open file: name = './modelos/red_new_17.h5', errno = 2, error message = 'No such file or directory', flags = 0, o_flags = 0)"
     ]
    }
   ],
   "source": [
    "ruta_modelo = \"./modelos/red_new_17.h5\"\n",
    "ruta_modelo_target = \"./modelos/red_target_new_17.h5\"\n",
    "\n",
    "red = load_model(ruta_modelo)\n",
    "red_target = load_model(ruta_modelo_target)"
   ]
  },
  {
   "cell_type": "code",
   "execution_count": 42,
   "metadata": {},
   "outputs": [
    {
     "name": "stderr",
     "output_type": "stream",
     "text": [
      "100% (200 of 200) |######################| Elapsed Time: 0:00:31 Time:  0:00:31\n"
     ]
    },
    {
     "data": {
      "image/png": "[encoded data removed]",
      "text/plain": [
       "<Figure size 432x288 with 4 Axes>"
      ]
     },
     "metadata": {
      "needs_background": "light"
     },
     "output_type": "display_data"
    }
   ],
   "source": [
    "from gym.envs.registration import register\n",
    "register(\n",
    "    id='simglucose-adolescent2-v2',\n",
    "    entry_point='simglucose.envs:T1DSimEnv',\n",
    "    kwargs={'patient_name': 'adolescent#002'}\n",
    ")\n",
    "\n",
    "envName = 'simglucose-adolescent2-v2'\n",
    "env = gym.make(envName) \n",
    "\n",
    "observation = env.reset()\n",
    "for t in progressbar.progressbar(range(200)):\n",
    "    env.render(mode='human')\n",
    "    #print(observation)\n",
    "    # Action in the gym environment is a scalar\n",
    "    # representing the basal insulin, which differs from\n",
    "    # the regular controller action outside the gym\n",
    "    # environment (a tuple (basal, bolus)).\n",
    "    # In the perfect situation, the agent should be able\n",
    "    # to control the glucose only through basal instead\n",
    "    # of asking patient to take bolus\n",
    "    observation, reward, done, info = env.step(0)\n",
    "    #if done:\n",
    "    #    print(\"Episode finished after {} timesteps\".format(t + 1))\n",
    "    #    break"
   ]
  },
  {
   "cell_type": "code",
   "execution_count": 11,
   "metadata": {},
   "outputs": [
    {
     "name": "stdout",
     "output_type": "stream",
     "text": [
      "Process ID: 3218\n",
      "Simulation starts ...\n",
      "Simulation Completed!\n",
      "                             BG         CGM  CHO   insulin  LBGI      HBGI  \\\n",
      "Time                                                                         \n",
      "2020-02-07 00:00:00  149.020000  165.793949  0.0  0.013933   0.0  2.755276   \n",
      "2020-02-07 00:03:00  149.020000  161.582022  0.0  0.013933   0.0  2.755276   \n",
      "2020-02-07 00:06:00  149.020000  159.239373  0.0  0.013933   0.0  2.755276   \n",
      "2020-02-07 00:09:00  149.020000  157.472710  0.0  0.013933   0.0  2.755276   \n",
      "2020-02-07 00:12:00  149.020000  156.108950  0.0  0.013933   0.0  2.755276   \n",
      "...                         ...         ...  ...       ...   ...       ...   \n",
      "2020-02-07 23:48:00  140.377422  140.872461  0.0  0.013933   0.0  1.706344   \n",
      "2020-02-07 23:51:00  139.944000  139.740305  0.0  0.013933   0.0  1.658886   \n",
      "2020-02-07 23:54:00  139.528133  138.839245  0.0  0.013933   0.0  1.613846   \n",
      "2020-02-07 23:57:00  139.128508  138.273393  0.0  0.013933   0.0  1.571027   \n",
      "2020-02-08 00:00:00  138.742856  138.037125  NaN       NaN   0.0  1.530139   \n",
      "\n",
      "                         Risk  \n",
      "Time                           \n",
      "2020-02-07 00:00:00  2.755276  \n",
      "2020-02-07 00:03:00  2.755276  \n",
      "2020-02-07 00:06:00  2.755276  \n",
      "2020-02-07 00:09:00  2.755276  \n",
      "2020-02-07 00:12:00  2.755276  \n",
      "...                       ...  \n",
      "2020-02-07 23:48:00  1.706344  \n",
      "2020-02-07 23:51:00  1.658886  \n",
      "2020-02-07 23:54:00  1.613846  \n",
      "2020-02-07 23:57:00  1.571027  \n",
      "2020-02-08 00:00:00  1.530139  \n",
      "\n",
      "[481 rows x 7 columns]\n",
      "Process ID: 3218\n",
      "Simulation starts ...\n",
      "Simulation Completed!\n",
      "                             BG         CGM  CHO   insulin  LBGI      HBGI  \\\n",
      "Time                                                                         \n",
      "2020-02-07 00:00:00  149.020000  165.793949  0.0  0.013933   0.0  2.755276   \n",
      "2020-02-07 00:03:00  149.020000  161.582022  0.0  0.013933   0.0  2.755276   \n",
      "2020-02-07 00:06:00  149.020000  159.239373  0.0  0.013933   0.0  2.755276   \n",
      "2020-02-07 00:09:00  149.020000  157.472710  0.0  0.013933   0.0  2.755276   \n",
      "2020-02-07 00:12:00  149.020000  156.108950  0.0  0.013933   0.0  2.755276   \n",
      "...                         ...         ...  ...       ...   ...       ...   \n",
      "2020-02-07 23:48:00  136.141122  136.433521  0.0  0.013933   0.0  1.265711   \n",
      "2020-02-07 23:51:00  136.318670  135.911176  0.0  0.013933   0.0  1.283110   \n",
      "2020-02-07 23:54:00  136.513732  135.621211  0.0  0.013933   0.0  1.302336   \n",
      "2020-02-07 23:57:00  136.722001  135.664379  0.0  0.013933   0.0  1.322992   \n",
      "2020-02-08 00:00:00  136.939600  136.032967  NaN       NaN   0.0  1.344714   \n",
      "\n",
      "                         Risk  \n",
      "Time                           \n",
      "2020-02-07 00:00:00  2.755276  \n",
      "2020-02-07 00:03:00  2.755276  \n",
      "2020-02-07 00:06:00  2.755276  \n",
      "2020-02-07 00:09:00  2.755276  \n",
      "2020-02-07 00:12:00  2.755276  \n",
      "...                       ...  \n",
      "2020-02-07 23:48:00  1.265711  \n",
      "2020-02-07 23:51:00  1.283110  \n",
      "2020-02-07 23:54:00  1.302336  \n",
      "2020-02-07 23:57:00  1.322992  \n",
      "2020-02-08 00:00:00  1.344714  \n",
      "\n",
      "[481 rows x 7 columns]\n",
      "Process ID: 3419\n",
      "Simulation starts ...\n",
      "Process ID: 3420\n",
      "Simulation starts ...\n",
      "Simulation Completed!\n",
      "Simulation Completed!\n",
      "Simulation took 6.88839864730835 sec.\n",
      "[                             BG         CGM  CHO   insulin  LBGI      HBGI  \\\n",
      "Time                                                                         \n",
      "2020-02-07 00:00:00  149.020000  165.793949  0.0  0.013933   0.0  2.755276   \n",
      "2020-02-07 00:03:00  149.020000  161.582022  0.0  0.013933   0.0  2.755276   \n",
      "2020-02-07 00:06:00  149.020000  159.239373  0.0  0.013933   0.0  2.755276   \n",
      "2020-02-07 00:09:00  149.020000  157.472710  0.0  0.013933   0.0  2.755276   \n",
      "2020-02-07 00:12:00  149.020000  156.108950  0.0  0.013933   0.0  2.755276   \n",
      "...                         ...         ...  ...       ...   ...       ...   \n",
      "2020-02-07 23:48:00  140.377422  140.872461  0.0  0.013933   0.0  1.706344   \n",
      "2020-02-07 23:51:00  139.944000  139.740305  0.0  0.013933   0.0  1.658886   \n",
      "2020-02-07 23:54:00  139.528133  138.839245  0.0  0.013933   0.0  1.613846   \n",
      "2020-02-07 23:57:00  139.128508  138.273393  0.0  0.013933   0.0  1.571027   \n",
      "2020-02-08 00:00:00  138.742856  138.037125  NaN       NaN   0.0  1.530139   \n",
      "\n",
      "                         Risk  \n",
      "Time                           \n",
      "2020-02-07 00:00:00  2.755276  \n",
      "2020-02-07 00:03:00  2.755276  \n",
      "2020-02-07 00:06:00  2.755276  \n",
      "2020-02-07 00:09:00  2.755276  \n",
      "2020-02-07 00:12:00  2.755276  \n",
      "...                       ...  \n",
      "2020-02-07 23:48:00  1.706344  \n",
      "2020-02-07 23:51:00  1.658886  \n",
      "2020-02-07 23:54:00  1.613846  \n",
      "2020-02-07 23:57:00  1.571027  \n",
      "2020-02-08 00:00:00  1.530139  \n",
      "\n",
      "[481 rows x 7 columns],                              BG         CGM  CHO   insulin  LBGI      HBGI  \\\n",
      "Time                                                                         \n",
      "2020-02-07 00:00:00  149.020000  165.793949  0.0  0.013933   0.0  2.755276   \n",
      "2020-02-07 00:03:00  149.020000  161.582022  0.0  0.013933   0.0  2.755276   \n",
      "2020-02-07 00:06:00  149.020000  159.239373  0.0  0.013933   0.0  2.755276   \n",
      "2020-02-07 00:09:00  149.020000  157.472710  0.0  0.013933   0.0  2.755276   \n",
      "2020-02-07 00:12:00  149.020000  156.108950  0.0  0.013933   0.0  2.755276   \n",
      "...                         ...         ...  ...       ...   ...       ...   \n",
      "2020-02-07 23:48:00  136.141122  136.433521  0.0  0.013933   0.0  1.265711   \n",
      "2020-02-07 23:51:00  136.318670  135.911176  0.0  0.013933   0.0  1.283110   \n",
      "2020-02-07 23:54:00  136.513732  135.621211  0.0  0.013933   0.0  1.302336   \n",
      "2020-02-07 23:57:00  136.722001  135.664379  0.0  0.013933   0.0  1.322992   \n",
      "2020-02-08 00:00:00  136.939600  136.032967  NaN       NaN   0.0  1.344714   \n",
      "\n",
      "                         Risk  \n",
      "Time                           \n",
      "2020-02-07 00:00:00  2.755276  \n",
      "2020-02-07 00:03:00  2.755276  \n",
      "2020-02-07 00:06:00  2.755276  \n",
      "2020-02-07 00:09:00  2.755276  \n",
      "2020-02-07 00:12:00  2.755276  \n",
      "...                       ...  \n",
      "2020-02-07 23:48:00  1.265711  \n",
      "2020-02-07 23:51:00  1.283110  \n",
      "2020-02-07 23:54:00  1.302336  \n",
      "2020-02-07 23:57:00  1.322992  \n",
      "2020-02-08 00:00:00  1.344714  \n",
      "\n",
      "[481 rows x 7 columns]]\n"
     ]
    }
   ],
   "source": [
    "from simglucose.simulation.env import T1DSimEnv\n",
    "from simglucose.controller.basal_bolus_ctrller import BBController\n",
    "from simglucose.sensor.cgm import CGMSensor\n",
    "from simglucose.actuator.pump import InsulinPump\n",
    "from simglucose.patient.t1dpatient import T1DPatient\n",
    "from simglucose.simulation.scenario_gen import RandomScenario\n",
    "from simglucose.simulation.scenario import CustomScenario\n",
    "from simglucose.simulation.sim_engine import SimObj, sim, batch_sim\n",
    "from datetime import timedelta\n",
    "from datetime import datetime\n",
    "\n",
    "# specify start_time as the beginning of today\n",
    "now = datetime.now()\n",
    "start_time = datetime.combine(now.date(), datetime.min.time())\n",
    "\n",
    "# --------- Create Random Scenario --------------\n",
    "# Specify results saving path\n",
    "path = './results'\n",
    "\n",
    "# Create a simulation environment\n",
    "patient = T1DPatient.withName('adolescent#001')\n",
    "sensor = CGMSensor.withName('Dexcom', seed=1)\n",
    "pump = InsulinPump.withName('Insulet')\n",
    "scenario = RandomScenario(start_time=start_time, seed=1)\n",
    "env = T1DSimEnv(patient, sensor, pump, scenario)\n",
    "\n",
    "# Create a controller\n",
    "controller = BBController()\n",
    "\n",
    "# Put them together to create a simulation object\n",
    "s1 = SimObj(env, controller, timedelta(days=1), animate=False, path=path)\n",
    "results1 = sim(s1)\n",
    "print(results1)\n",
    "\n",
    "# --------- Create Custom Scenario --------------\n",
    "# Create a simulation environment\n",
    "patient = T1DPatient.withName('adolescent#001')\n",
    "sensor = CGMSensor.withName('Dexcom', seed=1)\n",
    "pump = InsulinPump.withName('Insulet')\n",
    "# custom scenario is a list of tuples (time, meal_size)\n",
    "scen = [(7, 45), (12, 70), (16, 15), (18, 80), (23, 10)]\n",
    "scenario = CustomScenario(start_time=start_time, scenario=scen)\n",
    "env = T1DSimEnv(patient, sensor, pump, scenario)\n",
    "\n",
    "# Create a controller\n",
    "controller = BBController()\n",
    "\n",
    "# Put them together to create a simulation object\n",
    "s2 = SimObj(env, controller, timedelta(days=1), animate=False, path=path)\n",
    "results2 = sim(s2)\n",
    "print(results2)\n",
    "\n",
    "\n",
    "# --------- batch simulation --------------\n",
    "# Re-initialize simulation objects\n",
    "s1.reset()\n",
    "s2.reset()\n",
    "\n",
    "# create a list of SimObj, and call batch_sim\n",
    "s = [s1, s2]\n",
    "results = batch_sim(s, parallel=True)\n",
    "print(results)"
   ]
  },
  {
   "cell_type": "code",
   "execution_count": null,
   "metadata": {},
   "outputs": [],
   "source": []
  }
 ],
 "metadata": {
  "kernelspec": {
   "display_name": "Python 3",
   "language": "python",
   "name": "python3"
  },
  "language_info": {
   "codemirror_mode": {
    "name": "ipython",
    "version": 3
   },
   "file_extension": ".py",
   "mimetype": "text/x-python",
   "name": "python",
   "nbconvert_exporter": "python",
   "pygments_lexer": "ipython3",
   "version": "3.6.9"
  }
 },
 "nbformat": 4,
 "nbformat_minor": 4
}
