{
  "nbformat": 4,
  "nbformat_minor": 0,
  "metadata": {
    "colab": {
      "name": "PruebaColab.ipynb",
      "provenance": [],
      "collapsed_sections": [],
      "authorship_tag": "ABX9TyP2ZpW54GGF1zpsxKtoBYX4",
      "include_colab_link": true
    },
    "kernelspec": {
      "name": "python3",
      "display_name": "Python 3"
    },
    "accelerator": "GPU"
  },
  "cells": [
    {
      "cell_type": "markdown",
      "metadata": {
        "id": "view-in-github",
        "colab_type": "text"
      },
      "source": [
        "<a href=\"https://colab.research.google.com/github/jdmedinatobon/tesis/blob/master/PruebaColab.ipynb\" target=\"_parent\"><img src=\"https://colab.research.google.com/assets/colab-badge.svg\" alt=\"Open In Colab\"/></a>"
      ]
    },
    {
      "cell_type": "markdown",
      "metadata": {
        "id": "PbvZhGOdLVPe",
        "colab_type": "text"
      },
      "source": [
        "#Instalación"
      ]
    },
    {
      "cell_type": "code",
      "metadata": {
        "id": "cbd2RLxmLHqC",
        "colab_type": "code",
        "colab": {
          "base_uri": "https://localhost:8080/",
          "height": 191
        },
        "outputId": "5c86959b-f29f-4d7e-ef78-d5f85d87a357"
      },
      "source": [
        "#Correr esta celda si se utiliza Google Colab con un ambiente remoto.\n",
        "!pip install progressbar2\n",
        "!pip install gym"
      ],
      "execution_count": 1,
      "outputs": [
        {
          "output_type": "stream",
          "text": [
            "Requirement already satisfied: progressbar2 in /usr/local/lib/python3.6/dist-packages (3.38.0)\n",
            "Requirement already satisfied: python-utils>=2.3.0 in /usr/local/lib/python3.6/dist-packages (from progressbar2) (2.3.0)\n",
            "Requirement already satisfied: six in /usr/local/lib/python3.6/dist-packages (from progressbar2) (1.12.0)\n",
            "Requirement already satisfied: gym in /usr/local/lib/python3.6/dist-packages (0.15.6)\n",
            "Requirement already satisfied: cloudpickle~=1.2.0 in /usr/local/lib/python3.6/dist-packages (from gym) (1.2.2)\n",
            "Requirement already satisfied: pyglet<=1.5.0,>=1.4.0 in /usr/local/lib/python3.6/dist-packages (from gym) (1.4.10)\n",
            "Requirement already satisfied: numpy>=1.10.4 in /usr/local/lib/python3.6/dist-packages (from gym) (1.17.5)\n",
            "Requirement already satisfied: six in /usr/local/lib/python3.6/dist-packages (from gym) (1.12.0)\n",
            "Requirement already satisfied: scipy in /usr/local/lib/python3.6/dist-packages (from gym) (1.4.1)\n",
            "Requirement already satisfied: future in /usr/local/lib/python3.6/dist-packages (from pyglet<=1.5.0,>=1.4.0->gym) (0.16.0)\n"
          ],
          "name": "stdout"
        }
      ]
    },
    {
      "cell_type": "markdown",
      "metadata": {
        "id": "tpB5mKCoLaVi",
        "colab_type": "text"
      },
      "source": [
        "# Librerías"
      ]
    },
    {
      "cell_type": "code",
      "metadata": {
        "id": "rqXrBCcMLX1J",
        "colab_type": "code",
        "colab": {}
      },
      "source": [
        "import time\n",
        "import numpy as np\n",
        "import copy\n",
        "\n",
        "import progressbar\n",
        "import gym\n",
        "\n",
        "%tensorflow_version 1.x\n",
        "import tensorflow as tf\n",
        "import keras\n",
        "from keras.models import Sequential\n",
        "from keras.layers import Dense\n",
        "from keras import optimizers\n",
        "from keras.initializers import RandomNormal\n",
        "\n",
        "%matplotlib inline\n",
        "import matplotlib.pyplot as plt"
      ],
      "execution_count": 0,
      "outputs": []
    },
    {
      "cell_type": "markdown",
      "metadata": {
        "id": "-9xdjldULdOt",
        "colab_type": "text"
      },
      "source": [
        "#Clase"
      ]
    },
    {
      "cell_type": "code",
      "metadata": {
        "id": "FhcA0FR4Leek",
        "colab_type": "code",
        "colab": {}
      },
      "source": [
        "class ExperienceReplay():\n",
        "    def __init__(self, tamano_minimo = 1000, tamano_maximo = 10**6, tamano_batch = 32):\n",
        "        self.tamano_buffer = 0\n",
        "        self.tamano_batch = tamano_batch\n",
        "        self.tamano_minimo = tamano_minimo\n",
        "        self.tamano_maximo = tamano_maximo\n",
        "        self.buffer = np.empty(1)\n",
        "        \n",
        "    def agregarDato(self, x, a, r, xp):\n",
        "        dato = dict({'St':x, 'At':a, 'Rt+1':r, 'St+1':xp})\n",
        "        \n",
        "        if(self.tamano_buffer == 0):\n",
        "            self.buffer = np.append(self.buffer, dato)\n",
        "            self.buffer = np.delete(self.buffer, 0)\n",
        "            self.tamano_buffer = 1\n",
        "        else:\n",
        "            self.buffer = np.append(self.buffer, dato)\n",
        "            self.tamano_buffer += 1\n",
        "        \n",
        "        if(self.tamano_buffer > self.tamano_maximo):\n",
        "            self.buffer = np.delete(self.buffer, 0)\n",
        "            self.tamano_buffer -= 1\n",
        "            \n",
        "    \n",
        "    def darMuestras(self):\n",
        "        indices = np.random.choice(range(self.tamano_buffer), size = self.tamano_batch, replace = False)\n",
        "        return self.buffer[indices]"
      ],
      "execution_count": 0,
      "outputs": []
    },
    {
      "cell_type": "markdown",
      "metadata": {
        "id": "6fKp_90xLgD9",
        "colab_type": "text"
      },
      "source": [
        "#Table Lookup"
      ]
    },
    {
      "cell_type": "markdown",
      "metadata": {
        "id": "7UZgJsQDLiy9",
        "colab_type": "text"
      },
      "source": [
        "Pendulum-v0<br /> \n",
        "Utilizando el algoritmo de Sarsa.<br />\n",
        "Está como chambón pero funciona."
      ]
    },
    {
      "cell_type": "code",
      "metadata": {
        "id": "TISfAzCFLia_",
        "colab_type": "code",
        "colab": {}
      },
      "source": [
        "def darIndice(pS):\n",
        "    return int(round(pS, 1)*10+10)\n",
        "\n",
        "def escogerAccion(pS1, pS2, pS3):\n",
        "    num = np.random.random()\n",
        "    \n",
        "    if(num <= epsilon):\n",
        "        ind = np.random.randint(0,41)\n",
        "        return ind\n",
        "    else:\n",
        "        ind = np.where(tablaQ[pS1, pS2, pS3, :] == np.amax(tablaQ[pS1, pS2, pS3, :]))\n",
        "        ind = ind[0]\n",
        "        \n",
        "        if(len(ind) > 1):\n",
        "            return np.random.choice(ind)\n",
        "        else:\n",
        "            return ind\n",
        "    \n",
        "    return accion"
      ],
      "execution_count": 0,
      "outputs": []
    },
    {
      "cell_type": "code",
      "metadata": {
        "id": "q5OJPXA9LnCG",
        "colab_type": "code",
        "colab": {}
      },
      "source": [
        "envName = 'Pendulum-v0'\n",
        "\n",
        "g = 0.9\n",
        "alpha = 0.5\n",
        "epsilon = 0.1 #Entre 0 y 1\n",
        "maxIter = 1500000\n",
        "ventana = 100\n",
        "epsilonIterLimit = maxIter*0.9\n",
        "\n",
        "tablaQ = np.ones((21,21,17,41))*-16\n",
        "rewards = np.zeros(int(maxIter/10))\n",
        "\n",
        "env = gym.make(envName)\n",
        "observation = env.reset()\n",
        "\n",
        "s1 = darIndice(observation[0])\n",
        "s2 = darIndice(observation[1])\n",
        "s3 = int(round(observation[2], 0) + 8)\n",
        "a = escogerAccion(s1, s2, s3)\n",
        "\n",
        "suma = 0\n",
        "\n",
        "for i in progressbar.progressbar(range(maxIter)):\n",
        "    \n",
        "    if(i > maxIter-2000):\n",
        "        env.render()\n",
        "    \n",
        "    observation, reward, done, info = env.step([(a-20)/10.0])\n",
        "    observation = np.reshape(observation, (3,))\n",
        "    \n",
        "    s1p = darIndice(observation[0])\n",
        "    s2p = darIndice(observation[1])\n",
        "    s3p = int(round(observation[2], 0) + 8)\n",
        "    \n",
        "    ap = escogerAccion(s1p, s2p, s3p)\n",
        "    \n",
        "    r = reward #Por ahora\n",
        "    suma+=r\n",
        "    \n",
        "    if(i % ventana == 0):\n",
        "        rewards[int(i/ventana)] = suma/ventana\n",
        "        suma = 0\n",
        "    \n",
        "    tablaQ[s1, s2, s3, a] = tablaQ[s1, s2, s3, a] + alpha*(r + g*tablaQ[s1p, s2p, s3p, ap] - tablaQ[s1,s2,s3,a])\n",
        "    \n",
        "    s1 = s1p\n",
        "    s2 = s2p\n",
        "    s3 = s3p\n",
        "    a = ap\n",
        "    \n",
        "    if(i > epsilonIterLimit):\n",
        "        epsilon = 0\n",
        "    \n",
        "env.close()"
      ],
      "execution_count": 0,
      "outputs": []
    },
    {
      "cell_type": "code",
      "metadata": {
        "id": "_xryqaA7LpWu",
        "colab_type": "code",
        "colab": {}
      },
      "source": [
        "for i in progressbar.progressbar(range(2000)):\n",
        "    env.render()\n",
        "    \n",
        "    observation, reward, done, info = env.step([(a-20)/10.0])\n",
        "    observation = np.reshape(observation, (3,))\n",
        "    \n",
        "    s1p = darIndice(observation[0])\n",
        "    s2p = darIndice(observation[1])\n",
        "    s3p = int(round(observation[2], 0) + 8)\n",
        "    \n",
        "    ap = escogerAccion(s1p, s2p, s3p)\n",
        "    \n",
        "    r = reward #Por ahora\n",
        "    suma+=r\n",
        "    \n",
        "    if(i % ventana == 0):\n",
        "        rewards[int(i/ventana)] = suma/ventana\n",
        "        suma = 0\n",
        "    \n",
        "    tablaQ[s1, s2, s3, a] = tablaQ[s1, s2, s3, a] + alpha*(r + g*tablaQ[s1p, s2p, s3p, ap] - tablaQ[s1,s2,s3,a])\n",
        "    \n",
        "    s1 = s1p\n",
        "    s2 = s2p\n",
        "    s3 = s3p\n",
        "    a = ap\n",
        "    \n",
        "env.close()"
      ],
      "execution_count": 0,
      "outputs": []
    },
    {
      "cell_type": "markdown",
      "metadata": {
        "id": "euEc1_rlLqdQ",
        "colab_type": "text"
      },
      "source": [
        "#DQN"
      ]
    },
    {
      "cell_type": "code",
      "metadata": {
        "id": "RSus9n4dLrcg",
        "colab_type": "code",
        "colab": {}
      },
      "source": [
        "#Creando redes neuronales\n",
        "def crearRedes(n1 = 20, n2 = 41, learning_rate = 0.01):\n",
        "    init = RandomNormal(seed = 0)\n",
        "    \n",
        "    modelo = Sequential()\n",
        "    \n",
        "    modelo.add(Dense(n1, activation = 'relu', kernel_initializer = init, bias_initializer = init, input_dim = 3))\n",
        "    modelo.add(Dense(n2, activation = 'linear', kernel_initializer = init, bias_initializer = init))\n",
        "    \n",
        "    sgd = optimizers.sgd(lr = learning_rate)\n",
        "    \n",
        "    modelo.compile(loss = 'mean_squared_error', optimizer = sgd, metrics = ['accuracy'])\n",
        "    \n",
        "    return modelo, copy.deepcopy(modelo)\n",
        "\n",
        "def actualizarRedTarget(pRedPrincipal, pRedTarget):\n",
        "    \n",
        "    for i in range(len(pRedPrincipal.layers)):\n",
        "        pesosPrincipal = pRedPrincipal.layers[i].get_weights()\n",
        "        pesosTarget = pRedTarget.layers[i].get_weights()\n",
        "        \n",
        "        pesos = [tao*l1 + (1-tao)*l2 for l1, l2 in zip(pesosPrincipal, pesosTarget)]\n",
        "        \n",
        "        pRedTarget.layers[i].set_weights(pesos)\n",
        "\n",
        "def escogerAccion(pModelo, pX):\n",
        "    num = np.random.random()\n",
        "    \n",
        "    if(num <= epsilon):\n",
        "        ind = np.random.randint(0,41)\n",
        "        return ind\n",
        "    else:\n",
        "        ind = np.argmax(pModelo.predict(pX))\n",
        "        return ind"
      ],
      "execution_count": 0,
      "outputs": []
    },
    {
      "cell_type": "code",
      "metadata": {
        "id": "Wi08x7A1LtZx",
        "colab_type": "code",
        "colab": {
          "base_uri": "https://localhost:8080/",
          "height": 906
        },
        "outputId": "9b87710c-eeea-42cf-cc30-b858da05c825"
      },
      "source": [
        "envName = 'Pendulum-v0'\n",
        "\n",
        "modeloPrincipal, modeloTarget = crearRedes(learning_rate = 0.01)\n",
        "\n",
        "#Con los parametros default.\n",
        "buffer = ExperienceReplay()\n",
        "\n",
        "gamma = 0.99\n",
        "alpha = 0.35\n",
        "epsilon = 1#Entre 0 y 1\n",
        "epsilonDecay = 0.99\n",
        "tao = 0.001\n",
        "\n",
        "episodes = 100\n",
        "stepsPrueba = 500\n",
        "maxSteps = 100\n",
        "contadores = np.zeros((1,41))\n",
        "\n",
        "rewardsAcumulados = np.zeros(episodes)\n",
        "\n",
        "env = gym.make(envName)\n",
        "observation = env.reset()\n",
        "\n",
        "x = np.reshape(observation, (1,3))\n",
        "x[0,2] = x[0,2]/8.0\n",
        "\n",
        "a = escogerAccion(modeloPrincipal, x)\n",
        "\n",
        "#Este es un for inicial donde se almacena la cantidad minima de datos requerida en el buffer\n",
        "#antes de comenzar con el entrenamiento.\n",
        "for i in progressbar.progressbar(range(buffer.tamano_minimo)):\n",
        "    observation, reward, done, info = env.step([(a-20.0)/10.0])\n",
        "    \n",
        "    xp = np.reshape(observation, (1,3))\n",
        "    xp[0,2] = xp[0,2]/8.0\n",
        "    x = xp\n",
        "    \n",
        "    buffer.agregarDato(x, a, reward, xp)\n",
        "    \n",
        "    #epsilon es 1 asi que siempre va a escoger al azar.\n",
        "    a = escogerAccion(modeloPrincipal, x)\n",
        "    \n",
        "for e in progressbar.progressbar(range(episodes)):\n",
        "    rewardAcumulado = 0\n",
        "    observation = env.reset()\n",
        "    x = np.reshape(observation, (1,3))\n",
        "    x[0,2] = x[0,2]/8.0\n",
        "    a = escogerAccion(modeloPrincipal, x)\n",
        "    \n",
        "    for s in range(maxSteps):\n",
        "        observation, reward, done, info = env.step([(a-20.0)/10.0])\n",
        "        \n",
        "        rewardAcumulado += reward\n",
        "        \n",
        "        xp = observation\n",
        "        xp = np.reshape(xp, (1,3))\n",
        "        xp[0,2] = xp[0,2]/8.0\n",
        "\n",
        "        buffer.agregarDato(x, a, reward, xp)\n",
        "\n",
        "        muestras = buffer.darMuestras()\n",
        "\n",
        "        #Pasar esto a un metodo solito\n",
        "        xEnt = np.empty((1,3))\n",
        "        aEnt = np.empty(1)\n",
        "        rEnt = np.empty(1)\n",
        "        xpEnt = np.empty((1,3))\n",
        "\n",
        "        for m in muestras:\n",
        "            xEnt = np.append(xEnt, m.get('St'), axis = 0)\n",
        "            aEnt = np.append(aEnt, [m.get('At')], axis = 0)\n",
        "            rEnt = np.append(rEnt, [m.get('Rt+1')], axis = 0)\n",
        "            xpEnt = np.append(xpEnt, m.get('St+1'), axis = 0)\n",
        "\n",
        "        xEnt = np.delete(xEnt, 0, axis = 0)\n",
        "        aEnt = np.delete(aEnt, 0, axis = 0)\n",
        "        rEnt = np.delete(rEnt, 0, axis = 0)\n",
        "        xpEnt = np.delete(xpEnt, 0, axis = 0)\n",
        "\n",
        "        qValores = modeloPrincipal.predict(xEnt)\n",
        "\n",
        "        qValoresTarget = modeloTarget.predict(xEnt)\n",
        "        maxQvalores = np.amax(qValoresTarget, axis = 1)\n",
        "\n",
        "        #Aqui hay que calcular el maximo\n",
        "        targets = np.add(rEnt, gamma*maxQvalores)\n",
        "\n",
        "        yEnt = qValores\n",
        "\n",
        "        for j in range(buffer.tamano_batch):\n",
        "            yEnt[j,int(aEnt[j])] = targets[j]\n",
        "\n",
        "        modeloPrincipal.train_on_batch(xEnt, yEnt)\n",
        "        actualizarRedTarget(modeloPrincipal, modeloTarget)\n",
        "\n",
        "        x = xp\n",
        "        a = escogerAccion(modeloPrincipal, x)\n",
        "\n",
        "    epsilon = epsilon*epsilonDecay\n",
        "    rewardsAcumulados[e] = rewardAcumulado\n",
        "\n",
        "observation = env.reset()\n",
        "x = np.reshape(observation, (1,3))\n",
        "x[0,2] = x[0,2]/8.0\n",
        "a = escogerAccion(modeloPrincipal, x)    \n",
        "    \n",
        "for s in range(stepsPrueba):\n",
        "    \n",
        "    observation, reward, done, info = env.step([(a-20.0)/10.0])\n",
        "    \n",
        "    env.render()\n",
        "    \n",
        "    xp = observation\n",
        "    xp = np.reshape(xp, (1,3))\n",
        "    xp[0,2] = xp[0,2]/8.0\n",
        "    \n",
        "    a = escogerAccion(modeloPrincipal, xp)\n",
        "    \n",
        "env.close()"
      ],
      "execution_count": 6,
      "outputs": [
        {
          "output_type": "stream",
          "text": [
            "WARNING:tensorflow:From /usr/local/lib/python3.6/dist-packages/keras/backend/tensorflow_backend.py:66: The name tf.get_default_graph is deprecated. Please use tf.compat.v1.get_default_graph instead.\n",
            "\n",
            "WARNING:tensorflow:From /usr/local/lib/python3.6/dist-packages/keras/backend/tensorflow_backend.py:541: The name tf.placeholder is deprecated. Please use tf.compat.v1.placeholder instead.\n",
            "\n",
            "WARNING:tensorflow:From /usr/local/lib/python3.6/dist-packages/keras/backend/tensorflow_backend.py:4409: The name tf.random_normal is deprecated. Please use tf.random.normal instead.\n",
            "\n",
            "WARNING:tensorflow:From /usr/local/lib/python3.6/dist-packages/keras/optimizers.py:793: The name tf.train.Optimizer is deprecated. Please use tf.compat.v1.train.Optimizer instead.\n",
            "\n",
            "WARNING:tensorflow:From /usr/local/lib/python3.6/dist-packages/keras/backend/tensorflow_backend.py:190: The name tf.get_default_session is deprecated. Please use tf.compat.v1.get_default_session instead.\n",
            "\n",
            "WARNING:tensorflow:From /usr/local/lib/python3.6/dist-packages/keras/backend/tensorflow_backend.py:197: The name tf.ConfigProto is deprecated. Please use tf.compat.v1.ConfigProto instead.\n",
            "\n",
            "WARNING:tensorflow:From /usr/local/lib/python3.6/dist-packages/keras/backend/tensorflow_backend.py:203: The name tf.Session is deprecated. Please use tf.compat.v1.Session instead.\n",
            "\n",
            "WARNING:tensorflow:From /usr/local/lib/python3.6/dist-packages/keras/backend/tensorflow_backend.py:207: The name tf.global_variables is deprecated. Please use tf.compat.v1.global_variables instead.\n",
            "\n",
            "WARNING:tensorflow:From /usr/local/lib/python3.6/dist-packages/keras/backend/tensorflow_backend.py:216: The name tf.is_variable_initialized is deprecated. Please use tf.compat.v1.is_variable_initialized instead.\n",
            "\n",
            "WARNING:tensorflow:From /usr/local/lib/python3.6/dist-packages/keras/backend/tensorflow_backend.py:223: The name tf.variables_initializer is deprecated. Please use tf.compat.v1.variables_initializer instead.\n",
            "\n"
          ],
          "name": "stdout"
        },
        {
          "output_type": "stream",
          "text": [
            "/usr/local/lib/python3.6/dist-packages/gym/logger.py:30: UserWarning: \u001b[33mWARN: Box bound precision lowered by casting to float32\u001b[0m\n",
            "  warnings.warn(colorize('%s: %s'%('WARN', msg % args), 'yellow'))\n",
            "100% (1000 of 1000) |####################| Elapsed Time: 0:00:00 Time:  0:00:00\n",
            "N/A% (0 of 100) |                        | Elapsed Time: 0:00:00 ETA:  --:--:--"
          ],
          "name": "stderr"
        },
        {
          "output_type": "stream",
          "text": [
            "WARNING:tensorflow:From /usr/local/lib/python3.6/dist-packages/keras/backend/tensorflow_backend.py:1033: The name tf.assign_add is deprecated. Please use tf.compat.v1.assign_add instead.\n",
            "\n",
            "WARNING:tensorflow:From /usr/local/lib/python3.6/dist-packages/keras/backend/tensorflow_backend.py:1020: The name tf.assign is deprecated. Please use tf.compat.v1.assign instead.\n",
            "\n"
          ],
          "name": "stdout"
        },
        {
          "output_type": "stream",
          "text": [
            "100% (100 of 100) |######################| Elapsed Time: 0:01:48 Time:  0:01:48\n"
          ],
          "name": "stderr"
        },
        {
          "output_type": "error",
          "ename": "NoSuchDisplayException",
          "evalue": "ignored",
          "traceback": [
            "\u001b[0;31m---------------------------------------------------------------------------\u001b[0m",
            "\u001b[0;31mNoSuchDisplayException\u001b[0m                    Traceback (most recent call last)",
            "\u001b[0;32m<ipython-input-6-4a11c28275e4>\u001b[0m in \u001b[0;36m<module>\u001b[0;34m()\u001b[0m\n\u001b[1;32m    109\u001b[0m     \u001b[0mobservation\u001b[0m\u001b[0;34m,\u001b[0m \u001b[0mreward\u001b[0m\u001b[0;34m,\u001b[0m \u001b[0mdone\u001b[0m\u001b[0;34m,\u001b[0m \u001b[0minfo\u001b[0m \u001b[0;34m=\u001b[0m \u001b[0menv\u001b[0m\u001b[0;34m.\u001b[0m\u001b[0mstep\u001b[0m\u001b[0;34m(\u001b[0m\u001b[0;34m[\u001b[0m\u001b[0;34m(\u001b[0m\u001b[0ma\u001b[0m\u001b[0;34m-\u001b[0m\u001b[0;36m20.0\u001b[0m\u001b[0;34m)\u001b[0m\u001b[0;34m/\u001b[0m\u001b[0;36m10.0\u001b[0m\u001b[0;34m]\u001b[0m\u001b[0;34m)\u001b[0m\u001b[0;34m\u001b[0m\u001b[0;34m\u001b[0m\u001b[0m\n\u001b[1;32m    110\u001b[0m \u001b[0;34m\u001b[0m\u001b[0m\n\u001b[0;32m--> 111\u001b[0;31m     \u001b[0menv\u001b[0m\u001b[0;34m.\u001b[0m\u001b[0mrender\u001b[0m\u001b[0;34m(\u001b[0m\u001b[0;34m)\u001b[0m\u001b[0;34m\u001b[0m\u001b[0;34m\u001b[0m\u001b[0m\n\u001b[0m\u001b[1;32m    112\u001b[0m \u001b[0;34m\u001b[0m\u001b[0m\n\u001b[1;32m    113\u001b[0m     \u001b[0mxp\u001b[0m \u001b[0;34m=\u001b[0m \u001b[0mobservation\u001b[0m\u001b[0;34m\u001b[0m\u001b[0;34m\u001b[0m\u001b[0m\n",
            "\u001b[0;32m/usr/local/lib/python3.6/dist-packages/gym/core.py\u001b[0m in \u001b[0;36mrender\u001b[0;34m(self, mode, **kwargs)\u001b[0m\n\u001b[1;32m    233\u001b[0m \u001b[0;34m\u001b[0m\u001b[0m\n\u001b[1;32m    234\u001b[0m     \u001b[0;32mdef\u001b[0m \u001b[0mrender\u001b[0m\u001b[0;34m(\u001b[0m\u001b[0mself\u001b[0m\u001b[0;34m,\u001b[0m \u001b[0mmode\u001b[0m\u001b[0;34m=\u001b[0m\u001b[0;34m'human'\u001b[0m\u001b[0;34m,\u001b[0m \u001b[0;34m**\u001b[0m\u001b[0mkwargs\u001b[0m\u001b[0;34m)\u001b[0m\u001b[0;34m:\u001b[0m\u001b[0;34m\u001b[0m\u001b[0;34m\u001b[0m\u001b[0m\n\u001b[0;32m--> 235\u001b[0;31m         \u001b[0;32mreturn\u001b[0m \u001b[0mself\u001b[0m\u001b[0;34m.\u001b[0m\u001b[0menv\u001b[0m\u001b[0;34m.\u001b[0m\u001b[0mrender\u001b[0m\u001b[0;34m(\u001b[0m\u001b[0mmode\u001b[0m\u001b[0;34m,\u001b[0m \u001b[0;34m**\u001b[0m\u001b[0mkwargs\u001b[0m\u001b[0;34m)\u001b[0m\u001b[0;34m\u001b[0m\u001b[0;34m\u001b[0m\u001b[0m\n\u001b[0m\u001b[1;32m    236\u001b[0m \u001b[0;34m\u001b[0m\u001b[0m\n\u001b[1;32m    237\u001b[0m     \u001b[0;32mdef\u001b[0m \u001b[0mclose\u001b[0m\u001b[0;34m(\u001b[0m\u001b[0mself\u001b[0m\u001b[0;34m)\u001b[0m\u001b[0;34m:\u001b[0m\u001b[0;34m\u001b[0m\u001b[0;34m\u001b[0m\u001b[0m\n",
            "\u001b[0;32m/usr/local/lib/python3.6/dist-packages/gym/envs/classic_control/pendulum.py\u001b[0m in \u001b[0;36mrender\u001b[0;34m(self, mode)\u001b[0m\n\u001b[1;32m     62\u001b[0m \u001b[0;34m\u001b[0m\u001b[0m\n\u001b[1;32m     63\u001b[0m         \u001b[0;32mif\u001b[0m \u001b[0mself\u001b[0m\u001b[0;34m.\u001b[0m\u001b[0mviewer\u001b[0m \u001b[0;32mis\u001b[0m \u001b[0;32mNone\u001b[0m\u001b[0;34m:\u001b[0m\u001b[0;34m\u001b[0m\u001b[0;34m\u001b[0m\u001b[0m\n\u001b[0;32m---> 64\u001b[0;31m             \u001b[0;32mfrom\u001b[0m \u001b[0mgym\u001b[0m\u001b[0;34m.\u001b[0m\u001b[0menvs\u001b[0m\u001b[0;34m.\u001b[0m\u001b[0mclassic_control\u001b[0m \u001b[0;32mimport\u001b[0m \u001b[0mrendering\u001b[0m\u001b[0;34m\u001b[0m\u001b[0;34m\u001b[0m\u001b[0m\n\u001b[0m\u001b[1;32m     65\u001b[0m             \u001b[0mself\u001b[0m\u001b[0;34m.\u001b[0m\u001b[0mviewer\u001b[0m \u001b[0;34m=\u001b[0m \u001b[0mrendering\u001b[0m\u001b[0;34m.\u001b[0m\u001b[0mViewer\u001b[0m\u001b[0;34m(\u001b[0m\u001b[0;36m500\u001b[0m\u001b[0;34m,\u001b[0m\u001b[0;36m500\u001b[0m\u001b[0;34m)\u001b[0m\u001b[0;34m\u001b[0m\u001b[0;34m\u001b[0m\u001b[0m\n\u001b[1;32m     66\u001b[0m             \u001b[0mself\u001b[0m\u001b[0;34m.\u001b[0m\u001b[0mviewer\u001b[0m\u001b[0;34m.\u001b[0m\u001b[0mset_bounds\u001b[0m\u001b[0;34m(\u001b[0m\u001b[0;34m-\u001b[0m\u001b[0;36m2.2\u001b[0m\u001b[0;34m,\u001b[0m\u001b[0;36m2.2\u001b[0m\u001b[0;34m,\u001b[0m\u001b[0;34m-\u001b[0m\u001b[0;36m2.2\u001b[0m\u001b[0;34m,\u001b[0m\u001b[0;36m2.2\u001b[0m\u001b[0;34m)\u001b[0m\u001b[0;34m\u001b[0m\u001b[0;34m\u001b[0m\u001b[0m\n",
            "\u001b[0;32m/usr/local/lib/python3.6/dist-packages/gym/envs/classic_control/rendering.py\u001b[0m in \u001b[0;36m<module>\u001b[0;34m()\u001b[0m\n\u001b[1;32m     25\u001b[0m \u001b[0;34m\u001b[0m\u001b[0m\n\u001b[1;32m     26\u001b[0m \u001b[0;32mtry\u001b[0m\u001b[0;34m:\u001b[0m\u001b[0;34m\u001b[0m\u001b[0;34m\u001b[0m\u001b[0m\n\u001b[0;32m---> 27\u001b[0;31m     \u001b[0;32mfrom\u001b[0m \u001b[0mpyglet\u001b[0m\u001b[0;34m.\u001b[0m\u001b[0mgl\u001b[0m \u001b[0;32mimport\u001b[0m \u001b[0;34m*\u001b[0m\u001b[0;34m\u001b[0m\u001b[0;34m\u001b[0m\u001b[0m\n\u001b[0m\u001b[1;32m     28\u001b[0m \u001b[0;32mexcept\u001b[0m \u001b[0mImportError\u001b[0m \u001b[0;32mas\u001b[0m \u001b[0me\u001b[0m\u001b[0;34m:\u001b[0m\u001b[0;34m\u001b[0m\u001b[0;34m\u001b[0m\u001b[0m\n\u001b[1;32m     29\u001b[0m     raise ImportError('''\n",
            "\u001b[0;32m/usr/local/lib/python3.6/dist-packages/pyglet/gl/__init__.py\u001b[0m in \u001b[0;36m<module>\u001b[0;34m()\u001b[0m\n\u001b[1;32m    235\u001b[0m     \u001b[0;31m# trickery is for circular import\u001b[0m\u001b[0;34m\u001b[0m\u001b[0;34m\u001b[0m\u001b[0;34m\u001b[0m\u001b[0m\n\u001b[1;32m    236\u001b[0m     \u001b[0m_pyglet\u001b[0m\u001b[0;34m.\u001b[0m\u001b[0mgl\u001b[0m \u001b[0;34m=\u001b[0m \u001b[0m_sys\u001b[0m\u001b[0;34m.\u001b[0m\u001b[0mmodules\u001b[0m\u001b[0;34m[\u001b[0m\u001b[0m__name__\u001b[0m\u001b[0;34m]\u001b[0m\u001b[0;34m\u001b[0m\u001b[0;34m\u001b[0m\u001b[0m\n\u001b[0;32m--> 237\u001b[0;31m     \u001b[0;32mimport\u001b[0m \u001b[0mpyglet\u001b[0m\u001b[0;34m.\u001b[0m\u001b[0mwindow\u001b[0m\u001b[0;34m\u001b[0m\u001b[0;34m\u001b[0m\u001b[0m\n\u001b[0m",
            "\u001b[0;32m/usr/local/lib/python3.6/dist-packages/pyglet/window/__init__.py\u001b[0m in \u001b[0;36m<module>\u001b[0;34m()\u001b[0m\n\u001b[1;32m   1888\u001b[0m \u001b[0;32mif\u001b[0m \u001b[0;32mnot\u001b[0m \u001b[0m_is_pyglet_doc_run\u001b[0m\u001b[0;34m:\u001b[0m\u001b[0;34m\u001b[0m\u001b[0;34m\u001b[0m\u001b[0m\n\u001b[1;32m   1889\u001b[0m     \u001b[0mpyglet\u001b[0m\u001b[0;34m.\u001b[0m\u001b[0mwindow\u001b[0m \u001b[0;34m=\u001b[0m \u001b[0msys\u001b[0m\u001b[0;34m.\u001b[0m\u001b[0mmodules\u001b[0m\u001b[0;34m[\u001b[0m\u001b[0m__name__\u001b[0m\u001b[0;34m]\u001b[0m\u001b[0;34m\u001b[0m\u001b[0;34m\u001b[0m\u001b[0m\n\u001b[0;32m-> 1890\u001b[0;31m     \u001b[0mgl\u001b[0m\u001b[0;34m.\u001b[0m\u001b[0m_create_shadow_window\u001b[0m\u001b[0;34m(\u001b[0m\u001b[0;34m)\u001b[0m\u001b[0;34m\u001b[0m\u001b[0;34m\u001b[0m\u001b[0m\n\u001b[0m",
            "\u001b[0;32m/usr/local/lib/python3.6/dist-packages/pyglet/gl/__init__.py\u001b[0m in \u001b[0;36m_create_shadow_window\u001b[0;34m()\u001b[0m\n\u001b[1;32m    207\u001b[0m \u001b[0;34m\u001b[0m\u001b[0m\n\u001b[1;32m    208\u001b[0m     \u001b[0;32mfrom\u001b[0m \u001b[0mpyglet\u001b[0m\u001b[0;34m.\u001b[0m\u001b[0mwindow\u001b[0m \u001b[0;32mimport\u001b[0m \u001b[0mWindow\u001b[0m\u001b[0;34m\u001b[0m\u001b[0;34m\u001b[0m\u001b[0m\n\u001b[0;32m--> 209\u001b[0;31m     \u001b[0m_shadow_window\u001b[0m \u001b[0;34m=\u001b[0m \u001b[0mWindow\u001b[0m\u001b[0;34m(\u001b[0m\u001b[0mwidth\u001b[0m\u001b[0;34m=\u001b[0m\u001b[0;36m1\u001b[0m\u001b[0;34m,\u001b[0m \u001b[0mheight\u001b[0m\u001b[0;34m=\u001b[0m\u001b[0;36m1\u001b[0m\u001b[0;34m,\u001b[0m \u001b[0mvisible\u001b[0m\u001b[0;34m=\u001b[0m\u001b[0;32mFalse\u001b[0m\u001b[0;34m)\u001b[0m\u001b[0;34m\u001b[0m\u001b[0;34m\u001b[0m\u001b[0m\n\u001b[0m\u001b[1;32m    210\u001b[0m     \u001b[0m_shadow_window\u001b[0m\u001b[0;34m.\u001b[0m\u001b[0mswitch_to\u001b[0m\u001b[0;34m(\u001b[0m\u001b[0;34m)\u001b[0m\u001b[0;34m\u001b[0m\u001b[0;34m\u001b[0m\u001b[0m\n\u001b[1;32m    211\u001b[0m \u001b[0;34m\u001b[0m\u001b[0m\n",
            "\u001b[0;32m/usr/local/lib/python3.6/dist-packages/pyglet/window/xlib/__init__.py\u001b[0m in \u001b[0;36m__init__\u001b[0;34m(self, *args, **kwargs)\u001b[0m\n\u001b[1;32m    169\u001b[0m                     \u001b[0mself\u001b[0m\u001b[0;34m.\u001b[0m\u001b[0m_event_handlers\u001b[0m\u001b[0;34m[\u001b[0m\u001b[0mmessage\u001b[0m\u001b[0;34m]\u001b[0m \u001b[0;34m=\u001b[0m \u001b[0mfunc\u001b[0m\u001b[0;34m\u001b[0m\u001b[0;34m\u001b[0m\u001b[0m\n\u001b[1;32m    170\u001b[0m \u001b[0;34m\u001b[0m\u001b[0m\n\u001b[0;32m--> 171\u001b[0;31m         \u001b[0msuper\u001b[0m\u001b[0;34m(\u001b[0m\u001b[0mXlibWindow\u001b[0m\u001b[0;34m,\u001b[0m \u001b[0mself\u001b[0m\u001b[0;34m)\u001b[0m\u001b[0;34m.\u001b[0m\u001b[0m__init__\u001b[0m\u001b[0;34m(\u001b[0m\u001b[0;34m*\u001b[0m\u001b[0margs\u001b[0m\u001b[0;34m,\u001b[0m \u001b[0;34m**\u001b[0m\u001b[0mkwargs\u001b[0m\u001b[0;34m)\u001b[0m\u001b[0;34m\u001b[0m\u001b[0;34m\u001b[0m\u001b[0m\n\u001b[0m\u001b[1;32m    172\u001b[0m \u001b[0;34m\u001b[0m\u001b[0m\n\u001b[1;32m    173\u001b[0m         \u001b[0;32mglobal\u001b[0m \u001b[0m_can_detect_autorepeat\u001b[0m\u001b[0;34m\u001b[0m\u001b[0;34m\u001b[0m\u001b[0m\n",
            "\u001b[0;32m/usr/local/lib/python3.6/dist-packages/pyglet/window/__init__.py\u001b[0m in \u001b[0;36m__init__\u001b[0;34m(self, width, height, caption, resizable, style, fullscreen, visible, vsync, display, screen, config, context, mode)\u001b[0m\n\u001b[1;32m    573\u001b[0m \u001b[0;34m\u001b[0m\u001b[0m\n\u001b[1;32m    574\u001b[0m         \u001b[0;32mif\u001b[0m \u001b[0;32mnot\u001b[0m \u001b[0mdisplay\u001b[0m\u001b[0;34m:\u001b[0m\u001b[0;34m\u001b[0m\u001b[0;34m\u001b[0m\u001b[0m\n\u001b[0;32m--> 575\u001b[0;31m             \u001b[0mdisplay\u001b[0m \u001b[0;34m=\u001b[0m \u001b[0mpyglet\u001b[0m\u001b[0;34m.\u001b[0m\u001b[0mcanvas\u001b[0m\u001b[0;34m.\u001b[0m\u001b[0mget_display\u001b[0m\u001b[0;34m(\u001b[0m\u001b[0;34m)\u001b[0m\u001b[0;34m\u001b[0m\u001b[0;34m\u001b[0m\u001b[0m\n\u001b[0m\u001b[1;32m    576\u001b[0m \u001b[0;34m\u001b[0m\u001b[0m\n\u001b[1;32m    577\u001b[0m         \u001b[0;32mif\u001b[0m \u001b[0;32mnot\u001b[0m \u001b[0mscreen\u001b[0m\u001b[0;34m:\u001b[0m\u001b[0;34m\u001b[0m\u001b[0;34m\u001b[0m\u001b[0m\n",
            "\u001b[0;32m/usr/local/lib/python3.6/dist-packages/pyglet/canvas/__init__.py\u001b[0m in \u001b[0;36mget_display\u001b[0;34m()\u001b[0m\n\u001b[1;32m     93\u001b[0m \u001b[0;34m\u001b[0m\u001b[0m\n\u001b[1;32m     94\u001b[0m     \u001b[0;31m# Otherwise, create a new display and return it.\u001b[0m\u001b[0;34m\u001b[0m\u001b[0;34m\u001b[0m\u001b[0;34m\u001b[0m\u001b[0m\n\u001b[0;32m---> 95\u001b[0;31m     \u001b[0;32mreturn\u001b[0m \u001b[0mDisplay\u001b[0m\u001b[0;34m(\u001b[0m\u001b[0;34m)\u001b[0m\u001b[0;34m\u001b[0m\u001b[0;34m\u001b[0m\u001b[0m\n\u001b[0m\u001b[1;32m     96\u001b[0m \u001b[0;34m\u001b[0m\u001b[0m\n\u001b[1;32m     97\u001b[0m \u001b[0;34m\u001b[0m\u001b[0m\n",
            "\u001b[0;32m/usr/local/lib/python3.6/dist-packages/pyglet/canvas/xlib.py\u001b[0m in \u001b[0;36m__init__\u001b[0;34m(self, name, x_screen)\u001b[0m\n\u001b[1;32m    121\u001b[0m         \u001b[0mself\u001b[0m\u001b[0;34m.\u001b[0m\u001b[0m_display\u001b[0m \u001b[0;34m=\u001b[0m \u001b[0mxlib\u001b[0m\u001b[0;34m.\u001b[0m\u001b[0mXOpenDisplay\u001b[0m\u001b[0;34m(\u001b[0m\u001b[0mname\u001b[0m\u001b[0;34m)\u001b[0m\u001b[0;34m\u001b[0m\u001b[0;34m\u001b[0m\u001b[0m\n\u001b[1;32m    122\u001b[0m         \u001b[0;32mif\u001b[0m \u001b[0;32mnot\u001b[0m \u001b[0mself\u001b[0m\u001b[0;34m.\u001b[0m\u001b[0m_display\u001b[0m\u001b[0;34m:\u001b[0m\u001b[0;34m\u001b[0m\u001b[0;34m\u001b[0m\u001b[0m\n\u001b[0;32m--> 123\u001b[0;31m             \u001b[0;32mraise\u001b[0m \u001b[0mNoSuchDisplayException\u001b[0m\u001b[0;34m(\u001b[0m\u001b[0;34m'Cannot connect to \"%s\"'\u001b[0m \u001b[0;34m%\u001b[0m \u001b[0mname\u001b[0m\u001b[0;34m)\u001b[0m\u001b[0;34m\u001b[0m\u001b[0;34m\u001b[0m\u001b[0m\n\u001b[0m\u001b[1;32m    124\u001b[0m \u001b[0;34m\u001b[0m\u001b[0m\n\u001b[1;32m    125\u001b[0m         \u001b[0mscreen_count\u001b[0m \u001b[0;34m=\u001b[0m \u001b[0mxlib\u001b[0m\u001b[0;34m.\u001b[0m\u001b[0mXScreenCount\u001b[0m\u001b[0;34m(\u001b[0m\u001b[0mself\u001b[0m\u001b[0;34m.\u001b[0m\u001b[0m_display\u001b[0m\u001b[0;34m)\u001b[0m\u001b[0;34m\u001b[0m\u001b[0;34m\u001b[0m\u001b[0m\n",
            "\u001b[0;31mNoSuchDisplayException\u001b[0m: Cannot connect to \"None\""
          ]
        }
      ]
    },
    {
      "cell_type": "code",
      "metadata": {
        "id": "z_7xGlR6LvLm",
        "colab_type": "code",
        "colab": {
          "base_uri": "https://localhost:8080/",
          "height": 279
        },
        "outputId": "8e5116dc-9f52-4469-b1ed-d1b1b2df7335"
      },
      "source": [
        "plt.plot(rewardsAcumulados)\n",
        "plt.xlabel('Episode')\n",
        "plt.ylabel('Reward Acumulado')\n",
        "plt.show()"
      ],
      "execution_count": 7,
      "outputs": [
        {
          "output_type": "display_data",
          "data": {
            "image/png": "[encoded data removed]",
            "text/plain": [
              "<Figure size 432x288 with 1 Axes>"
            ]
          },
          "metadata": {
            "tags": []
          }
        }
      ]
    },
    {
      "cell_type": "code",
      "metadata": {
        "id": "d3UziSrJM973",
        "colab_type": "code",
        "colab": {}
      },
      "source": [
        ""
      ],
      "execution_count": 0,
      "outputs": []
    }
  ]
}