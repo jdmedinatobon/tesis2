{
 "cells": [
  {
   "cell_type": "markdown",
   "metadata": {},
   "source": [
    "# Tesis"
   ]
  },
  {
   "cell_type": "markdown",
   "metadata": {},
   "source": [
    "Este es el cuaderno de Jupyter para la implementación de la tesis. <br >\n",
    "Este código utiliza el trabajo realizado por Diego Gomez (Poner aquí link al artículo de el, o el github o lo que sea) y lo aplica al problema de la regulación del nivel de glucosa en la sangre en pacientes Diabéticos Tipo 1. <br >\n",
    "Se utiliza la librería de \"simglucose\" que permite simular la dinámica de la glucosa, de acuerdo con el simulador aprobado por la FDA de UVa/Padova (Versión 2008). <br >\n",
    "Link de la librería de simglucose: https://github.com/jxx123/simglucose <br >\n",
    "Link del GitHub de Diego: https://github.com/tarod13 <br >"
   ]
  },
  {
   "cell_type": "markdown",
   "metadata": {},
   "source": [
    "# Tareas\n",
    "1. Entender bien la librería de simglucose: rewards, acciones, estados, todo eso. (En progreso: ~5%) \n",
    "2. Hacer lo del mapeo de estados a acciones: s->a (En progreso: ~80%)\n",
    "3. Hacer lo del mapeo de estados a Habilidades: s->A (Sin comenzar: 0%)\n",
    "4. Implementar lo de Diego para encontrar los conceptos: s->S (Sin comenzar: 0%)\n",
    "5. Analizar todo"
   ]
  },
  {
   "cell_type": "code",
   "execution_count": 1,
   "metadata": {},
   "outputs": [
    {
     "name": "stderr",
     "output_type": "stream",
     "text": [
      "Using TensorFlow backend.\n"
     ]
    }
   ],
   "source": [
    "import time, copy, random\n",
    "import numpy as np\n",
    "import pandas as pd\n",
    "from collections import deque\n",
    "\n",
    "import progressbar\n",
    "import gym\n",
    "import simglucose\n",
    "\n",
    "import tensorflow as tf\n",
    "import keras\n",
    "from keras.models import Sequential\n",
    "from keras.layers import Dense\n",
    "from keras import optimizers\n",
    "from keras.initializers import RandomNormal\n",
    "from keras.models import load_model\n",
    "\n",
    "%matplotlib inline\n",
    "import matplotlib.pyplot as plt\n",
    "\n",
    "from pandas.plotting import register_matplotlib_converters\n",
    "register_matplotlib_converters()"
   ]
  },
  {
   "cell_type": "code",
   "execution_count": 2,
   "metadata": {},
   "outputs": [],
   "source": [
    "class ExperienceReplay():\n",
    "    def __init__(self, tamano_minimo = 1000, tamano_maximo = 10**5, tamano_batch = 32, column_names = ['St', 'At', 'St+1', 'Rt+1', 'done']):\n",
    "        self.tamano_buffer = 0\n",
    "        self.indice = 0\n",
    "        self.tamano_batch = tamano_batch\n",
    "        self.tamano_minimo = tamano_minimo\n",
    "        self.tamano_maximo = tamano_maximo\n",
    "        self.columnas = column_names\n",
    "        \n",
    "        self.buffer = self.inicializarBuffer()\n",
    "        self.buffer.columns = column_names\n",
    "        #self.indices = range(self.tamano_maximo)\n",
    "    \n",
    "    def inicializarBuffer(self):\n",
    "        aux = pd.DataFrame(np.zeros((10**4,5)), dtype = 'object')\n",
    "        #aux = pd.DataFrame({'St': None, 'At': [np.array([0,0])],\n",
    "        #                   'Rt+1': [np.array([0,0])], 'St+1': [np.array([0,0])],\n",
    "        #                   'done': [np.array([0,0])]})\n",
    "        \n",
    "        buffer = []\n",
    "        \n",
    "        for i in range(int(self.tamano_maximo/10**4)):\n",
    "            buffer.append(aux)\n",
    "        \n",
    "        return pd.concat(buffer)\n",
    "    \n",
    "    def agregarDato(self, x, a, r, xp, d):\n",
    "        \n",
    "        if(self.indice == self.tamano_maximo):\n",
    "            self.indice = 0\n",
    "            \n",
    "        self.buffer.iloc[self.indice]['St'] = x\n",
    "        self.buffer.iloc[self.indice]['At'] = a\n",
    "        self.buffer.iloc[self.indice]['Rt+1'] = r\n",
    "        self.buffer.iloc[self.indice]['St+1'] = xp\n",
    "        self.buffer.iloc[self.indice]['done'] = d\n",
    "\n",
    "        self.indice +=1\n",
    "        \n",
    "        if self.tamano_buffer < self.tamano_maximo:\n",
    "            self.tamano_buffer += 1\n",
    "    \n",
    "    def darMuestras(self):\n",
    "        #indices = random.sample(self.indices[0:self.tamano_buffer], self.tamano_batch)\n",
    "        indices = random.sample(range(self.tamano_buffer), self.tamano_batch)\n",
    "        return self.buffer.iloc[indices]"
   ]
  },
  {
   "cell_type": "code",
   "execution_count": 3,
   "metadata": {
    "scrolled": true
   },
   "outputs": [],
   "source": [
    "# Codigo tomado de: https://github.com/jxx123/simglucose\n",
    "\n",
    "# Basal: Largo plazo\n",
    "# Bolus: Corto plazo\n",
    "\n",
    "# Register gym environment. By specifying kwargs,\n",
    "# you are able to choose which patient to simulate.\n",
    "# patient_name must be 'adolescent#001' to 'adolescent#010',\n",
    "# or 'adult#001' to 'adult#010', or 'child#001' to 'child#010'\n",
    "\n",
    "#Cada vez que se crea un env se construye de manera aleatoria\n",
    "#Por ejemplo, la cantidad de carbohidratos que se consumen y \n",
    "#el tiempo en el que se consumen es aleatoria.\n",
    "\n",
    "from gym.envs.registration import register\n",
    "register(\n",
    "    id='simglucose-adolescent2-v0',\n",
    "    entry_point='simglucose.envs:T1DSimEnv',\n",
    "    kwargs={'patient_name': 'adolescent#002'}\n",
    ")"
   ]
  },
  {
   "cell_type": "code",
   "execution_count": 4,
   "metadata": {},
   "outputs": [],
   "source": [
    "#Creando redes neuronales\n",
    "\n",
    "def crearRedes(num_entrada, num_salida, n1 = 256, n2 = 256, learning_rate = 0.01):\n",
    "    init = RandomNormal(seed = 0)\n",
    "    \n",
    "    modelo = Sequential()\n",
    "    \n",
    "    modelo.add(Dense(n1, activation = 'relu', kernel_initializer = init, bias_initializer = init, input_dim = num_entrada))\n",
    "    modelo.add(Dense(n2, activation = 'relu', kernel_initializer = init, bias_initializer = init))\n",
    "    #modelo.add(Dense(n2, activation = 'relu', kernel_initializer = init, bias_initializer = init))\n",
    "    modelo.add(Dense(num_salida, activation = 'linear', kernel_initializer = init, bias_initializer = init))\n",
    "    \n",
    "    sgd = optimizers.sgd(lr = learning_rate)\n",
    "    \n",
    "    modelo.compile(loss = 'mean_squared_error', optimizer = sgd, metrics = ['accuracy'])\n",
    "    \n",
    "    return modelo, copy.deepcopy(modelo)\n",
    "\n",
    "def actualizarRedTarget(pRedPrincipal, pRedTarget):\n",
    "    \n",
    "    for i in range(len(pRedPrincipal.layers)):\n",
    "        pesosPrincipal = pRedPrincipal.layers[i].get_weights()\n",
    "        pesosTarget = pRedTarget.layers[i].get_weights()\n",
    "        \n",
    "        pesos = [tao*l1 + (1-tao)*l2 for l1, l2 in zip(pesosPrincipal, pesosTarget)]\n",
    "        \n",
    "        pRedTarget.layers[i].set_weights(pesos)\n",
    "\n",
    "def escogerAccion(pModelo, pX, pNumAcciones):\n",
    "    num = np.random.random()\n",
    "    \n",
    "    if(num <= epsilon):\n",
    "        ind = np.random.randint(0, pNumAcciones)\n",
    "        return ind\n",
    "    else:\n",
    "        #Esto creo que es como lento. Hacerlo mejor.\n",
    "        #Usando deque:\n",
    "        x = np.reshape(np.asarray(pX), (1,-1))\n",
    "        ind = np.argmax(pModelo.predict(x))\n",
    "        return ind\n",
    "    \n",
    "def convertirAccion(pAccion, pMaxAccion, pNumAcciones):\n",
    "    return pAccion*pMaxAccion/float(pNumAcciones)"
   ]
  },
  {
   "cell_type": "code",
   "execution_count": 7,
   "metadata": {},
   "outputs": [
    {
     "data": {
      "text/plain": [
       "0.13530821527775996"
      ]
     },
     "execution_count": 7,
     "metadata": {},
     "output_type": "execute_result"
    }
   ],
   "source": [
    "0.9998**10000"
   ]
  },
  {
   "cell_type": "code",
   "execution_count": 7,
   "metadata": {},
   "outputs": [
    {
     "name": "stdout",
     "output_type": "stream",
     "text": [
      "18.4 ms ± 623 µs per loop (mean ± std. dev. of 7 runs, 100 loops each)\n"
     ]
    }
   ],
   "source": [
    "%timeit env = gym.make(envName)"
   ]
  },
  {
   "cell_type": "code",
   "execution_count": 31,
   "metadata": {},
   "outputs": [
    {
     "name": "stdout",
     "output_type": "stream",
     "text": [
      "[[0.0075     0.         0.06666667 0.0075     0.         0.06666667\n",
      "  0.0075     0.         0.06666667 0.0075     0.         0.06666667\n",
      "  0.0075     0.         0.06666667 0.0075     0.         0.06666667\n",
      "  0.0075     0.         0.06666667 0.0075     0.         0.06666667\n",
      "  0.0075     0.         0.06666667 0.0075     0.         0.06666667\n",
      "  0.0075     0.         0.06666667 0.0075     0.         0.06666667\n",
      "  0.0075     0.         0.06666667 0.0075     0.         0.06666667\n",
      "  0.0075     0.         0.06666667 0.0075     0.         0.06666667\n",
      "  0.0075     0.         0.06666667 0.0075     0.         0.06666667\n",
      "  0.0075     0.         0.06666667 0.0075     0.         0.06666667\n",
      "  0.0075     0.         0.06666667 0.0075     0.         0.06666667\n",
      "  0.0075     0.         0.06666667 0.0075     0.         0.06666667\n",
      "  0.0075     0.         0.06666667 0.0075     0.         0.06666667\n",
      "  0.0075     0.         0.06666667 0.0075     0.         0.06666667\n",
      "  0.0075     0.         0.06666667 0.0075     0.         0.06666667\n",
      "  0.0075     0.         0.06666667 0.0075     0.         0.06666667\n",
      "  0.0075     0.         0.06666667 0.0075     0.         0.06666667\n",
      "  0.0075     0.         0.06666667 0.0075     0.         0.06666667\n",
      "  0.0075     0.         0.06666667 0.0075     0.         0.06666667\n",
      "  0.0075     0.         0.06666667 0.0075     0.         0.06666667]]\n"
     ]
    }
   ],
   "source": [
    "test = np.array(state_queue)*max_norm\n",
    "test2 = np.reshape(test, (1,-1))\n",
    "print(test2)"
   ]
  },
  {
   "cell_type": "code",
   "execution_count": 24,
   "metadata": {},
   "outputs": [
    {
     "name": "stdout",
     "output_type": "stream",
     "text": [
      "deque([[159.0, 0.0, 1.0], [159.0, 0.0, 1.0], [159.0, 0.0, 1.0], [159.0, 0.0, 1.0], [159.0, 0.0, 1.0], [159.0, 0.0, 1.0], [159.0, 0.0, 1.0], [159.0, 0.0, 1.0], [159.0, 0.0, 1.0], [159.0, 0.0, 1.0], [159.0, 0.0, 1.0], [159.0, 0.0, 1.0], [159.0, 0.0, 1.0], [159.0, 0.0, 1.0], [159.0, 0.0, 1.0], [159.0, 0.0, 1.0], [159.0, 0.0, 1.0], [159.0, 0.0, 1.0], [159.0, 0.0, 1.0], [159.0, 0.0, 1.0], [159.0, 0.0, 1.0], [159.0, 0.0, 1.0], [159.0, 0.0, 1.0], [159.0, 0.0, 1.0], [159.0, 0.0, 1.0], [159.0, 0.0, 1.0], [159.0, 0.0, 1.0], [159.0, 0.0, 1.0], [159.0, 0.0, 1.0], [159.0, 0.0, 1.0], [159.0, 0.0, 1.0], [159.0, 0.0, 1.0], [159.0, 0.0, 1.0], [159.0, 0.0, 1.0], [159.0, 0.0, 1.0], [159.0, 0.0, 1.0], [159.0, 0.0, 1.0], [159.0, 0.0, 1.0], [159.0, 0.0, 1.0], [159.0, 0.0, 1.0]], maxlen=40)\n"
     ]
    }
   ],
   "source": [
    "test3 = deque(maxlen = num_estados)\n",
    "\n",
    "for i in range(num_estados):\n",
    "    test3.append([159.0, 0.0, 1.0])\n",
    "    \n",
    "print(test3)"
   ]
  },
  {
   "cell_type": "code",
   "execution_count": 45,
   "metadata": {},
   "outputs": [
    {
     "data": {
      "text/plain": [
       "0.13530821527775996"
      ]
     },
     "execution_count": 45,
     "metadata": {},
     "output_type": "execute_result"
    }
   ],
   "source": [
    "0.9998**10000"
   ]
  },
  {
   "cell_type": "code",
   "execution_count": 46,
   "metadata": {
    "scrolled": true
   },
   "outputs": [
    {
     "name": "stderr",
     "output_type": "stream",
     "text": [
      "100% (100 of 100) |######################| Elapsed Time: 0:00:02 Time:  0:00:02\n",
      "100% (10000 of 10000) |##################| Elapsed Time: 4:06:29 Time:  4:06:29\n"
     ]
    },
    {
     "data": {
      "image/png": "[encoded data removed]",
      "text/plain": [
       "<Figure size 720x288 with 1 Axes>"
      ]
     },
     "metadata": {
      "needs_background": "light"
     },
     "output_type": "display_data"
    },
    {
     "data": {
      "image/png": "[encoded data removed]",
      "text/plain": [
       "<Figure size 432x288 with 1 Axes>"
      ]
     },
     "metadata": {
      "needs_background": "light"
     },
     "output_type": "display_data"
    },
    {
     "data": {
      "image/png": "[encoded data removed]",
      "text/plain": [
       "<Figure size 720x288 with 1 Axes>"
      ]
     },
     "metadata": {
      "needs_background": "light"
     },
     "output_type": "display_data"
    },
    {
     "data": {
      "image/png": "[encoded data removed]",
      "text/plain": [
       "<Figure size 432x288 with 1 Axes>"
      ]
     },
     "metadata": {
      "needs_background": "light"
     },
     "output_type": "display_data"
    },
    {
     "name": "stdout",
     "output_type": "stream",
     "text": [
      "Total training time:  14792.29 seconds\n"
     ]
    }
   ],
   "source": [
    "np.random.seed(123)\n",
    "\n",
    "envName = 'simglucose-adolescent2-v0'\n",
    "env = gym.make(envName)\n",
    "\n",
    "num_episodes = 10000\n",
    "num_steps = 200\n",
    "num_steps_train = 100\n",
    "epsilon = 1.0\n",
    "epsilon_decay = 0.9998\n",
    "tao = 0.001\n",
    "gamma = 0.99\n",
    "batch_size = 32\n",
    "\n",
    "total_steps_log = []\n",
    "epsilon_log = []\n",
    "muestras_log = []\n",
    "rewards_acumulados = []\n",
    "rewards_promedio = []\n",
    "cantidad_steps_log = []\n",
    "\n",
    "buffer = ExperienceReplay(tamano_minimo = 100)\n",
    "\n",
    "#num_estados_glucosa = 20\n",
    "#num_estados_insulina = 20\n",
    "#num_estados_cho = 20\n",
    "num_estados = 40#num_estados_glucosa + num_estados_insulina + num_estados_cho\n",
    "max_estados = num_estados#max(num_estados_glucosa, num_estados_insulina, num_estados_cho)\n",
    "\n",
    "num_acciones = 30\n",
    "max_accion = 30.0\n",
    "max_glucosa = 200.0\n",
    "max_cho = 30\n",
    "max_norm = [1/max_glucosa, 1/max_accion, 1/max_cho]\n",
    "\n",
    "reward_done = -1\n",
    "render = False\n",
    "\n",
    "red, red_target = crearRedes(learning_rate = 0.01, num_entrada = num_estados*3, num_salida = num_acciones)\n",
    "\n",
    "observation = env.reset()\n",
    "\n",
    "#state = deque([observation[0]]*num_estados, maxlen = num_estados)\n",
    "#next_state = deque([observation[0]]*num_estados, maxlen = num_estados)\n",
    "\n",
    "#queue_glucosa = deque([observation[0]], maxlen = num_estados_glucosa)\n",
    "#queue_insulina = deque([0.0], maxlen = num_estados_insulina)\n",
    "#queue_cho = deque([0.0], maxlen = num_estados_cho)\n",
    "state_queue = deque([[observation[0], 0.0, 0.0]]*num_estados , maxlen = num_estados)\n",
    "\n",
    "#queue_glucosa = deque([observation[0] for i in range(num_estados_glucosa)], maxlen = num_estados_glucosa)\n",
    "#queue_insulina = deque([0.0 for i in range(num_estados_glucosa)], maxlen = num_estados_insulina)\n",
    "\n",
    "#state = deque([observation[0]], maxlen = num_estados)\n",
    "#next_state = deque([observation[0]], maxlen = num_estados)\n",
    "\n",
    "initial_time = time.time()\n",
    "\n",
    "#for s in range(num_estados-1):\n",
    "#    action = np.random.randint(num_acciones)\n",
    "    \n",
    "#    observation, reward, done, info = env.step(convertirAccion(action, max_accion, num_acciones))\n",
    "    \n",
    "#    state.append(observation[0])\n",
    "#    next_state.append(observation[0])\n",
    "\n",
    "#s = 0\n",
    "#while s < num_estados_glucosa or s < num_estados_insulina:\n",
    "#    observation, reward, done, info = env.step(0.0)\n",
    "    \n",
    "    #state.append(observation[0])\n",
    "    #next_state.append(observation[0])\n",
    "#    queue_glucosa.append(observation[0])\n",
    "#    queue_insulina.append(0.0)\n",
    "    \n",
    "#    print(reward)\n",
    "#    s+=1\n",
    "    \n",
    "    \n",
    "with progressbar.ProgressBar(max_value = buffer.tamano_minimo) as bar:\n",
    "    s = 0\n",
    "    while s < buffer.tamano_minimo:\n",
    "    \n",
    "        if False: #len(state_queue) < max_estados:#len(queue_glucosa) < num_estados_glucosa or len(queue_insulina) < num_estados_insulina or len(queue_cho) < num_estados_cho:\n",
    "            action = 0.0\n",
    "            \n",
    "            i = 0\n",
    "            \n",
    "            while i < max_estados:\n",
    "                observation, reward, done, info = env.step(action)\n",
    "\n",
    "                #state.append(observation[0])\n",
    "                #next_state.append(observation[0])\n",
    "                #queue_glucosa.append(observation[0])\n",
    "                #queue_insulina.append(action)\n",
    "                #queue_cho.append(info['meal'])\n",
    "                \n",
    "                state_queue.append([observation[0], action, info['meal']])\n",
    "                \n",
    "                i+=1\n",
    "                \n",
    "        #state = np.concatenate((np.array(queue_glucosa)/max_glucosa, np.array(queue_insulina)/max_accion, np.array(queue_cho)/max_cho))\n",
    "        state = np.array(state_queue)*max_norm\n",
    "        state = np.reshape(state, (1,-1))\n",
    "        #print(state)\n",
    "        #s+=num_estados\n",
    "        \n",
    "        action = np.random.randint(num_acciones)\n",
    "\n",
    "        observation, reward, done, info = env.step(convertirAccion(action, max_accion, num_acciones))\n",
    "        \n",
    "        #queue_glucosa.append(observation[0])\n",
    "        #queue_insulina.append(action)\n",
    "        #queue_cho.append(info['meal'])\n",
    "        state_queue.append([observation[0], action, info['meal']])\n",
    "        \n",
    "        next_state = np.array(state_queue)*max_norm\n",
    "        next_state = np.reshape(next_state, (1,-1))\n",
    "        #next_state.append(observation[0])\n",
    "\n",
    "        if done:\n",
    "            #reward = reward_done\n",
    "\n",
    "            #buffer.agregarDato(copy.copy(state), action, reward, copy.copy(next_state), done)\n",
    "            env = gym.make(envName)\n",
    "            #observation = env.reset()\n",
    "\n",
    "            #state = deque([observation[0]]*num_estados, maxlen = num_estados)\n",
    "            #next_state = deque([observation[0]]*num_estados, maxlen = num_estados)\n",
    "            #state = deque([observation[0]], maxlen = num_estados)\n",
    "            #next_state = deque([observation[0]], maxlen = num_estados)\n",
    "            #state.clear()\n",
    "            #next_state.clear()\n",
    "            \n",
    "            #queue_glucosa.clear()\n",
    "            #queue_insulina.clear()\n",
    "            #queue_cho.clear()\n",
    "            state_queue.clear()\n",
    "            observation = env.reset()\n",
    "            state_queue = deque([[observation[0], 0.0, 0.0]]*num_estados , maxlen = num_estados)\n",
    "    \n",
    "            #queue_glucosa.append(observation[0])\n",
    "            #queue_insulina.append(0.0)\n",
    "            #queue_glucosa = deque([observation[0] for i in range(num_estados_glucosa)], maxlen = num_estados_glucosa)\n",
    "            #queue_insulina = deque([0.0 for i in range(num_estados_glucosa)], maxlen = num_estados_insulina)\n",
    "            \n",
    "            #state.append(observation[0])\n",
    "            #next_state.append(observation[0])\n",
    "        else:\n",
    "            buffer.agregarDato(copy.copy(state), action, reward, copy.copy(next_state), done)\n",
    "\n",
    "            #state.append(observation[0])\n",
    "            #state = copy.copy(next_state)\n",
    "            \n",
    "            s+=1\n",
    "            bar.update(s)\n",
    "\n",
    "for e in progressbar.progressbar(range(num_episodes)):\n",
    "    #state.clear()\n",
    "    #next_state.clear()    \n",
    "    env = gym.make(envName)\n",
    "    #observation = env.reset()\n",
    "    \n",
    "    #state = deque([observation[0]]*num_estados, maxlen = num_estados)\n",
    "    #next_state = deque([observation[0]]*num_estados, maxlen = num_estados)\n",
    "    \n",
    "    #state = deque([observation[0]], maxlen = num_estados)\n",
    "    #next_state = deque([observation[0]], maxlen = num_estados)\n",
    "    \n",
    "    #state.clear()\n",
    "    #next_state.clear()\n",
    "    #state.append(observation[0])\n",
    "    #next_state.append(observation[0])\n",
    "    \n",
    "    #queue_glucosa.clear()\n",
    "    #queue_insulina.clear()\n",
    "    #queue_cho.clear()\n",
    "    state_queue.clear()\n",
    "    \n",
    "    observation = env.reset()\n",
    "    state_queue = deque([[observation[0], 0.0, 0.0]]*num_estados , maxlen = num_estados)\n",
    "    \n",
    "    #queue_glucosa.append(observation[0])\n",
    "    #queue_insulina.append(0.0)\n",
    "    #queue_glucosa = deque([observation[0] for i in range(num_estados_glucosa)], maxlen = num_estados_glucosa)\n",
    "    #queue_insulina = deque([0.0 for i in range(num_estados_glucosa)], maxlen = num_estados_insulina)\n",
    "    \n",
    "    #for s in range(num_estados-1):\n",
    "    #    action = np.random.randint(num_acciones)\n",
    "\n",
    "    #    observation, reward, done, info = env.step(convertirAccion(action, max_accion, num_acciones))\n",
    "\n",
    "    #    state.append(observation[0])\n",
    "    #    next_state.append(observation[0])\n",
    "    \n",
    "    rewardAcumulado = 0\n",
    "    cantidad_steps = num_steps\n",
    "    \n",
    "    s = 0\n",
    "    while s < num_steps:\n",
    "        \n",
    "        if render:\n",
    "            env.render(mode = \"human\")\n",
    "        \n",
    "        if False:#len(state_queue) < max_estados:#len(queue_glucosa) < num_estados_glucosa or len(queue_insulina) < num_estados_insulina or len(queue_cho) < num_estados_cho:\n",
    "\n",
    "            action = 0.0\n",
    "\n",
    "            i = 0\n",
    "            while i < max_estados:\n",
    "                observation, reward, done, info = env.step(action)\n",
    "\n",
    "                #state.append(observation[0])\n",
    "                #next_state.append(observation[0])\n",
    "                #queue_glucosa.append(observation[0])\n",
    "                #queue_insulina.append(action)\n",
    "                #queue_cho.append(info['meal'])\n",
    "                state_queue.append([observation[0], action, info['meal']])\n",
    "                \n",
    "                i+=1\n",
    "            \n",
    "        #    state = np.concatenate((np.array(queue_glucosa)/max_glucosa, np.array(queue_insulina)/max_accion))\n",
    "        #    state = np.reshape(state,(1,-1))\n",
    "            s+=max_estados\n",
    "        \n",
    "        if(np.random.random() <= epsilon):\n",
    "            action = np.random.randint(num_acciones)\n",
    "        else:\n",
    "            #x = np.reshape(np.asarray(state), (1,-1))\n",
    "            #print(red.predict(x))\n",
    "            #x = x/500.0\n",
    "            #action = np.argmax(red.predict(x))\n",
    "            action = np.argmax(red.predict(state))\n",
    "            \n",
    "        #state = np.concatenate((np.array(queue_glucosa)/max_glucosa, np.array(queue_insulina)/max_accion, np.array(queue_cho)/max_cho))\n",
    "        state = np.array(state_queue)*max_norm\n",
    "        state = np.reshape(state, (1,-1))\n",
    "        \n",
    "        #state = copy.copy(next_state)\n",
    "        \n",
    "        observation, reward, done, info = env.step(convertirAccion(action, max_accion, num_acciones))\n",
    "        \n",
    "        #queue_glucosa.append(observation[0])\n",
    "        #queue_insulina.append(action)\n",
    "        #queue_cho.append(info['meal'])\n",
    "        state_queue.append([observation[0], action, info['meal']])\n",
    "        \n",
    "        #next_state = np.concatenate((np.array(queue_glucosa)/max_glucosa, np.array(queue_insulina)/max_accion, np.array(queue_cho)/max_cho))\n",
    "        next_state = np.array(state_queue)*max_norm\n",
    "        next_state = np.reshape(next_state, (1,-1))\n",
    "        #next_state.append(observation[0])\n",
    "        \n",
    "        #observation = env.reset()\n",
    "\n",
    "        #state = deque([observation[0]]*num_estados, maxlen = num_estados)\n",
    "        #next_state = deque([observation[0]]*num_estados, maxlen = num_estados)\n",
    "\n",
    "        #state.append(observation[0])\n",
    "        \n",
    "        #suma_muestras = 0\n",
    "        \n",
    "        #tm = time.time()\n",
    "        #muestras = buffer.darMuestras()\n",
    "        #suma_muestras += time.time()-tm\n",
    "\n",
    "        #states = np.concatenate(muestras['St'].values)\n",
    "        #states = np.reshape(states, (buffer.tamano_batch, num_estados))\n",
    "        \n",
    "        #actions = muestras['At'].values\n",
    "        #rewards = muestras['Rt+1'].values\n",
    "        \n",
    "        #next_states = np.concatenate(muestras['St+1'].values)\n",
    "        #next_states = np.reshape(next_states, (buffer.tamano_batch, num_estados))\n",
    "        \n",
    "        #dones = muestras['done'].values\n",
    "        \n",
    "        #Normalizando estados. Usando 500 por ahora.\n",
    "        #states = states/500.0\n",
    "        #next_states = next_states/500.0\n",
    "        \n",
    "        #Q_values = red.predict(states)\n",
    "        \n",
    "        #print(Q_values)\n",
    "        \n",
    "        #next_Q_values = red_target.predict(next_states)\n",
    "        #targets = Q_values.copy()\n",
    "\n",
    "        #targets[np.arange(buffer.tamano_batch), list(actions)] = rewards + gamma* np.max(next_Q_values, axis = 1) * (1 - dones)\n",
    "\n",
    "        #red.train_on_batch(states, targets)\n",
    "\n",
    "        #actualizarRedTarget(red, red_target)\n",
    "\n",
    "        rewardAcumulado += reward\n",
    "        \n",
    "        s+=1\n",
    "        \n",
    "        if done:\n",
    "            #print(s)\n",
    "            cantidad_steps = s\n",
    "            break \n",
    "        else:\n",
    "            buffer.agregarDato(copy.copy(state), action, reward, copy.copy(next_state), done)\n",
    "    \n",
    "    #num_steps_train = cantidad_steps\n",
    "    suma_muestras = 0\n",
    "    i = 0\n",
    "    while i < num_steps_train:\n",
    "        \n",
    "        tm = time.time()\n",
    "        muestras = buffer.darMuestras()\n",
    "        suma_muestras += time.time()-tm\n",
    "\n",
    "        states = np.concatenate(muestras['St'].values)\n",
    "        #states = np.reshape(states, (buffer.tamano_batch, num_estados))\n",
    "        \n",
    "        actions = muestras['At'].values\n",
    "        rewards = muestras['Rt+1'].values\n",
    "        \n",
    "        next_states = np.concatenate(muestras['St+1'].values)\n",
    "        #next_states = np.reshape(next_states, (buffer.tamano_batch, num_estados))\n",
    "        \n",
    "        dones = muestras['done'].values\n",
    "        \n",
    "        #dones = muestras['done'].values\n",
    "        \n",
    "        #Normalizando estados. Usando 500 por ahora.\n",
    "        #states = states/500.0\n",
    "        #next_states = next_states/500.0\n",
    "        \n",
    "        Q_values = red.predict(states)\n",
    "        \n",
    "        #print(Q_values)\n",
    "        \n",
    "        next_Q_values = red_target.predict(next_states)\n",
    "        targets = Q_values.copy()\n",
    "\n",
    "        targets[np.arange(buffer.tamano_batch), list(actions)] = rewards + gamma* np.max(next_Q_values, axis = 1) * (1 - dones)\n",
    "\n",
    "        red.train_on_batch(states, targets)\n",
    "\n",
    "        actualizarRedTarget(red, red_target)\n",
    "        \n",
    "        i+=1\n",
    "        \n",
    "    suma_muestras *= 1/(cantidad_steps+1)\n",
    "    muestras_log.append(suma_muestras)\n",
    "    rewards_acumulados.append(rewardAcumulado)\n",
    "    rewards_promedio.append(rewardAcumulado/cantidad_steps)\n",
    "    \n",
    "    total_steps_log.append(s)\n",
    "    cantidad_steps_log.append(cantidad_steps)\n",
    "    epsilon_log.append(epsilon)\n",
    "    epsilon = epsilon_decay * epsilon\n",
    "\n",
    "total_training_time = time.time() - initial_time\n",
    "\n",
    "plt.figure(figsize=(10,4))\n",
    "\n",
    "plt.subplot(121)\n",
    "plt.plot(muestras_log)\n",
    "plt.xlabel('Episode')\n",
    "plt.ylabel('Tiempo Muestra (seg)')\n",
    "plt.show()\n",
    "\n",
    "plt.subplot(122)\n",
    "plt.plot(epsilon_log)\n",
    "plt.xlabel('Episode')\n",
    "plt.ylabel('Epsilon')\n",
    "plt.show()\n",
    "\n",
    "plt.figure(figsize=(10,4))\n",
    "\n",
    "plt.subplot(121)\n",
    "plt.plot(rewards_acumulados, color = 'b', label = \"Reward Acumulado\")\n",
    "#plt.plot(rewards_promedio, color = 'r', label = \"Reward Promedio\")\n",
    "plt.legend()\n",
    "plt.xlabel('Episode')\n",
    "plt.ylabel('Reward')\n",
    "plt.show()\n",
    "\n",
    "plt.subplot(122)\n",
    "plt.plot(cantidad_steps_log)\n",
    "plt.xlabel('Episode')\n",
    "plt.ylabel('Cantidad Steps')\n",
    "plt.show()\n",
    "\n",
    "print('Total training time: ', np.round(total_training_time, 2), 'seconds')"
   ]
  },
  {
   "cell_type": "code",
   "execution_count": 18,
   "metadata": {
    "scrolled": true
   },
   "outputs": [
    {
     "data": {
      "image/png": "[encoded data removed]",
      "text/plain": [
       "<Figure size 720x288 with 1 Axes>"
      ]
     },
     "metadata": {
      "needs_background": "light"
     },
     "output_type": "display_data"
    }
   ],
   "source": [
    "plt.figure(figsize=(10,4))\n",
    "\n",
    "plt.subplot(121)\n",
    "plt.plot(rewards_promedio, color = 'r', label = \"Reward Promedio\")\n",
    "plt.legend()\n",
    "plt.xlabel('Episode')\n",
    "plt.ylabel('Reward')\n",
    "plt.show()"
   ]
  },
  {
   "cell_type": "code",
   "execution_count": 36,
   "metadata": {},
   "outputs": [
    {
     "data": {
      "text/plain": [
       "{'sample_time': 3.0,\n",
       " 'patient_name': 'adolescent#002',\n",
       " 'meal': 0.0,\n",
       " 'patient_state': array([ 2.90259775e+01,  2.10430753e+02,  7.64266667e+01, -1.16117396e-10,\n",
       "        -2.53207702e-13,  6.10864419e+03,  1.19635507e+05,  1.17386289e+05,\n",
       "         1.10861152e+05,  5.03918051e+03,  7.93938419e+04,  4.78484584e+04,\n",
       "        -6.80626727e-13])}"
      ]
     },
     "execution_count": 36,
     "metadata": {},
     "output_type": "execute_result"
    }
   ],
   "source": [
    "info"
   ]
  },
  {
   "cell_type": "markdown",
   "metadata": {},
   "source": [
    "# Probando el Agente"
   ]
  },
  {
   "cell_type": "code",
   "execution_count": 47,
   "metadata": {},
   "outputs": [
    {
     "name": "stderr",
     "output_type": "stream",
     "text": [
      "100% (200 of 200) |######################| Elapsed Time: 0:00:27 Time:  0:00:27\n"
     ]
    },
    {
     "data": {
      "image/png": "[encoded data removed]",
      "text/plain": [
       "<Figure size 432x288 with 4 Axes>"
      ]
     },
     "metadata": {
      "needs_background": "light"
     },
     "output_type": "display_data"
    }
   ],
   "source": [
    "env = gym.make(envName)\n",
    "observation = env.reset()\n",
    "\n",
    "#queue_glucosa = deque(maxlen = num_estados_glucosa)\n",
    "#queue_insulina = deque(maxlen = num_estados_insulina)\n",
    "#state_queue = deque(maxlen = num_estados)\n",
    "state_queue = deque([[observation[0], 0.0, 0.0]]*num_estados, maxlen = num_estados)\n",
    "\n",
    "#queue_glucosa = deque([observation[0] for i in range(num_estados_glucosa)], maxlen = num_estados_glucosa)\n",
    "#queue_insulina = deque([0.0 for i in range(num_estados_glucosa)], maxlen = num_estados_insulina)\n",
    "    \n",
    "num_steps_test = 200\n",
    "\n",
    "s = 0\n",
    "while False:#s < max_estados:\n",
    "    env.render(mode='human')\n",
    "\n",
    "    observation, reward, done, info = env.step(0.0)\n",
    "    \n",
    "    #queue_glucosa.append(observation[0])\n",
    "    #queue_insulina.append(0.0)\n",
    "    state_queue.append([observation[0], 0.0, info['meal']])\n",
    "    s+=1\n",
    "    #state.append(observation[0])\n",
    "    #next_state.append(observation[0])\n",
    "    \n",
    "for s in progressbar.progressbar(range(num_steps_test)):\n",
    "    env.render(mode='human')\n",
    "    \n",
    "    #state = np.concatenate((np.array(queue_glucosa)/max_glucosa, np.array(queue_insulina)/max_accion))\n",
    "    state = np.array(state_queue)*max_norm\n",
    "    state = np.reshape(state, (1,-1))\n",
    "    #x = np.reshape(np.asarray(state), (1,-1))\n",
    "    #x = x/500.0\n",
    "    #print(state)\n",
    "    #print(red.predict(state))\n",
    "    #Se escoge la accion de acuerdo con la politica optima.\n",
    "    action = np.argmax(red.predict(state))\n",
    "    #print(state)\n",
    "    #print(red.predict(x))\n",
    "    \n",
    "    observation, reward, done, info = env.step(action)#env.step(convertirAccion(action, max_accion, num_acciones))\n",
    "    #print(observation)\n",
    "    #state.append(observation[0])\n",
    "    #queue_glucosa.append(observation[0])\n",
    "    #queue_insulina.append(action)\n",
    "    state_queue.append([observation[0], action, info['meal']])\n",
    "    if False:#done:\n",
    "        print(\"Episode finished after {} timesteps\".format(s + 1))\n",
    "        break"
   ]
  },
  {
   "cell_type": "code",
   "execution_count": 37,
   "metadata": {},
   "outputs": [
    {
     "data": {
      "text/plain": [
       "{'sample_time': 3.0,\n",
       " 'patient_name': 'adolescent#002',\n",
       " 'meal': 0.0,\n",
       " 'patient_state': array([ 2.90259775e+01,  2.10430753e+02,  7.64266667e+01, -1.16117396e-10,\n",
       "        -2.53207702e-13,  6.10864419e+03,  1.19635507e+05,  1.17386289e+05,\n",
       "         1.10861152e+05,  5.03918051e+03,  7.93938419e+04,  4.78484584e+04,\n",
       "        -6.80626727e-13])}"
      ]
     },
     "execution_count": 37,
     "metadata": {},
     "output_type": "execute_result"
    }
   ],
   "source": [
    "info"
   ]
  },
  {
   "cell_type": "code",
   "execution_count": 10,
   "metadata": {},
   "outputs": [
    {
     "name": "stdout",
     "output_type": "stream",
     "text": [
      "[[0.195 0.5   0.    0.195 0.5   0.    0.195 0.5   0.    0.195 0.5   0.\n",
      "  0.195 0.5   0.    0.195 0.5   0.    0.195 0.5   0.    0.195 0.5   0.\n",
      "  0.195 0.5   0.    0.195 0.5   0.    0.195 0.5   0.    0.195 0.5   0.\n",
      "  0.195 0.5   0.    0.195 0.5   0.    0.195 0.5   0.    0.195 0.5   0.\n",
      "  0.195 0.5   0.    0.195 0.5   0.    0.195 0.5   0.    0.195 0.5   0.   ]]\n",
      "15\n",
      "[[-0.00541855 -0.03454683 -0.21173063 -0.02247252 -0.08056487 -0.01917425\n",
      "  -0.03605382 -0.11660269 -0.01635593  0.06704849  0.10057518 -0.07552926\n",
      "  -0.09284229  0.09571654 -0.02005951  0.16924767  0.12845863  0.09882414\n",
      "  -0.23182926 -0.10603409 -0.00614036 -0.15324043 -0.04304627 -0.0239891\n",
      "  -0.02953745 -0.03065731  0.01991903  0.05359905  0.01258527  0.02308823]]\n"
     ]
    }
   ],
   "source": [
    "print(state)\n",
    "print(np.argmax(red.predict(state)))\n",
    "print(red.predict(state))"
   ]
  },
  {
   "cell_type": "markdown",
   "metadata": {},
   "source": [
    "# Guardar las redes"
   ]
  },
  {
   "cell_type": "code",
   "execution_count": null,
   "metadata": {},
   "outputs": [],
   "source": [
    "def guardarModelo(pModelo, pRutaModelo):\n",
    "    pModelo.save(pRutaModelo)"
   ]
  },
  {
   "cell_type": "code",
   "execution_count": null,
   "metadata": {},
   "outputs": [],
   "source": [
    "ruta_modelo = \"./modelos/red_new_17.h5\"\n",
    "ruta_modelo_target = \"./modelos/red_target_new_17.h5\"\n",
    "\n",
    "#Las red_new 5, 6 son las que mejor han funcionado\n",
    "#La 8 es la segunda mejor hasta ahora.\n",
    "#La 9 es la mejor hasta ahora.\n",
    "#La 10 no sirve para nada\n",
    "#La 11 no esta mal pero toca entrenar con mas steps (por ahi 200).\n",
    "#La 12 aun no funciona bien. Entrenar mas.\n",
    "#De la 14 en adelante ahora se entrena creando aleatoriamente el environment cada vez que lo reinicia.\n",
    "#La 15 no está mal pero inyecta insulina cuando el azucar esta por debajo de maso 60 (yo creo que es\n",
    "#por lo que el episodio termina ahi, entonces no logra aprender que no tiene que inyectar ahi. Puedo\n",
    "#probar cambiando la reward function)\n",
    "#La 16 es similar a la 15.\n",
    "#La 17 es sin armar el estado al comienzo, sino que inicializandolo en valores constantes.\n",
    "\n",
    "guardarModelo(red, ruta_modelo)\n",
    "guardarModelo(red_target, ruta_modelo_target)"
   ]
  },
  {
   "cell_type": "code",
   "execution_count": 5,
   "metadata": {},
   "outputs": [],
   "source": [
    "ruta_modelo = \"./modelos/red_new_15.h5\"\n",
    "ruta_modelo_target = \"./modelos/red_target_new_15.h5\"\n",
    "\n",
    "red = load_model(ruta_modelo)\n",
    "red_target = load_model(ruta_modelo_target)"
   ]
  },
  {
   "cell_type": "code",
   "execution_count": 42,
   "metadata": {},
   "outputs": [
    {
     "name": "stderr",
     "output_type": "stream",
     "text": [
      "100% (200 of 200) |######################| Elapsed Time: 0:00:31 Time:  0:00:31\n"
     ]
    },
    {
     "data": {
      "image/png": "[encoded data removed]",
      "text/plain": [
       "<Figure size 432x288 with 4 Axes>"
      ]
     },
     "metadata": {
      "needs_background": "light"
     },
     "output_type": "display_data"
    }
   ],
   "source": [
    "from gym.envs.registration import register\n",
    "register(\n",
    "    id='simglucose-adolescent2-v2',\n",
    "    entry_point='simglucose.envs:T1DSimEnv',\n",
    "    kwargs={'patient_name': 'adolescent#002'}\n",
    ")\n",
    "\n",
    "envName = 'simglucose-adolescent2-v2'\n",
    "env = gym.make(envName) \n",
    "\n",
    "observation = env.reset()\n",
    "for t in progressbar.progressbar(range(200)):\n",
    "    env.render(mode='human')\n",
    "    #print(observation)\n",
    "    # Action in the gym environment is a scalar\n",
    "    # representing the basal insulin, which differs from\n",
    "    # the regular controller action outside the gym\n",
    "    # environment (a tuple (basal, bolus)).\n",
    "    # In the perfect situation, the agent should be able\n",
    "    # to control the glucose only through basal instead\n",
    "    # of asking patient to take bolus\n",
    "    observation, reward, done, info = env.step(0)\n",
    "    #if done:\n",
    "    #    print(\"Episode finished after {} timesteps\".format(t + 1))\n",
    "    #    break"
   ]
  },
  {
   "cell_type": "code",
   "execution_count": 11,
   "metadata": {},
   "outputs": [
    {
     "name": "stdout",
     "output_type": "stream",
     "text": [
      "Process ID: 3218\n",
      "Simulation starts ...\n",
      "Simulation Completed!\n",
      "                             BG         CGM  CHO   insulin  LBGI      HBGI  \\\n",
      "Time                                                                         \n",
      "2020-02-07 00:00:00  149.020000  165.793949  0.0  0.013933   0.0  2.755276   \n",
      "2020-02-07 00:03:00  149.020000  161.582022  0.0  0.013933   0.0  2.755276   \n",
      "2020-02-07 00:06:00  149.020000  159.239373  0.0  0.013933   0.0  2.755276   \n",
      "2020-02-07 00:09:00  149.020000  157.472710  0.0  0.013933   0.0  2.755276   \n",
      "2020-02-07 00:12:00  149.020000  156.108950  0.0  0.013933   0.0  2.755276   \n",
      "...                         ...         ...  ...       ...   ...       ...   \n",
      "2020-02-07 23:48:00  140.377422  140.872461  0.0  0.013933   0.0  1.706344   \n",
      "2020-02-07 23:51:00  139.944000  139.740305  0.0  0.013933   0.0  1.658886   \n",
      "2020-02-07 23:54:00  139.528133  138.839245  0.0  0.013933   0.0  1.613846   \n",
      "2020-02-07 23:57:00  139.128508  138.273393  0.0  0.013933   0.0  1.571027   \n",
      "2020-02-08 00:00:00  138.742856  138.037125  NaN       NaN   0.0  1.530139   \n",
      "\n",
      "                         Risk  \n",
      "Time                           \n",
      "2020-02-07 00:00:00  2.755276  \n",
      "2020-02-07 00:03:00  2.755276  \n",
      "2020-02-07 00:06:00  2.755276  \n",
      "2020-02-07 00:09:00  2.755276  \n",
      "2020-02-07 00:12:00  2.755276  \n",
      "...                       ...  \n",
      "2020-02-07 23:48:00  1.706344  \n",
      "2020-02-07 23:51:00  1.658886  \n",
      "2020-02-07 23:54:00  1.613846  \n",
      "2020-02-07 23:57:00  1.571027  \n",
      "2020-02-08 00:00:00  1.530139  \n",
      "\n",
      "[481 rows x 7 columns]\n",
      "Process ID: 3218\n",
      "Simulation starts ...\n",
      "Simulation Completed!\n",
      "                             BG         CGM  CHO   insulin  LBGI      HBGI  \\\n",
      "Time                                                                         \n",
      "2020-02-07 00:00:00  149.020000  165.793949  0.0  0.013933   0.0  2.755276   \n",
      "2020-02-07 00:03:00  149.020000  161.582022  0.0  0.013933   0.0  2.755276   \n",
      "2020-02-07 00:06:00  149.020000  159.239373  0.0  0.013933   0.0  2.755276   \n",
      "2020-02-07 00:09:00  149.020000  157.472710  0.0  0.013933   0.0  2.755276   \n",
      "2020-02-07 00:12:00  149.020000  156.108950  0.0  0.013933   0.0  2.755276   \n",
      "...                         ...         ...  ...       ...   ...       ...   \n",
      "2020-02-07 23:48:00  136.141122  136.433521  0.0  0.013933   0.0  1.265711   \n",
      "2020-02-07 23:51:00  136.318670  135.911176  0.0  0.013933   0.0  1.283110   \n",
      "2020-02-07 23:54:00  136.513732  135.621211  0.0  0.013933   0.0  1.302336   \n",
      "2020-02-07 23:57:00  136.722001  135.664379  0.0  0.013933   0.0  1.322992   \n",
      "2020-02-08 00:00:00  136.939600  136.032967  NaN       NaN   0.0  1.344714   \n",
      "\n",
      "                         Risk  \n",
      "Time                           \n",
      "2020-02-07 00:00:00  2.755276  \n",
      "2020-02-07 00:03:00  2.755276  \n",
      "2020-02-07 00:06:00  2.755276  \n",
      "2020-02-07 00:09:00  2.755276  \n",
      "2020-02-07 00:12:00  2.755276  \n",
      "...                       ...  \n",
      "2020-02-07 23:48:00  1.265711  \n",
      "2020-02-07 23:51:00  1.283110  \n",
      "2020-02-07 23:54:00  1.302336  \n",
      "2020-02-07 23:57:00  1.322992  \n",
      "2020-02-08 00:00:00  1.344714  \n",
      "\n",
      "[481 rows x 7 columns]\n",
      "Process ID: 3419\n",
      "Simulation starts ...\n",
      "Process ID: 3420\n",
      "Simulation starts ...\n",
      "Simulation Completed!\n",
      "Simulation Completed!\n",
      "Simulation took 6.88839864730835 sec.\n",
      "[                             BG         CGM  CHO   insulin  LBGI      HBGI  \\\n",
      "Time                                                                         \n",
      "2020-02-07 00:00:00  149.020000  165.793949  0.0  0.013933   0.0  2.755276   \n",
      "2020-02-07 00:03:00  149.020000  161.582022  0.0  0.013933   0.0  2.755276   \n",
      "2020-02-07 00:06:00  149.020000  159.239373  0.0  0.013933   0.0  2.755276   \n",
      "2020-02-07 00:09:00  149.020000  157.472710  0.0  0.013933   0.0  2.755276   \n",
      "2020-02-07 00:12:00  149.020000  156.108950  0.0  0.013933   0.0  2.755276   \n",
      "...                         ...         ...  ...       ...   ...       ...   \n",
      "2020-02-07 23:48:00  140.377422  140.872461  0.0  0.013933   0.0  1.706344   \n",
      "2020-02-07 23:51:00  139.944000  139.740305  0.0  0.013933   0.0  1.658886   \n",
      "2020-02-07 23:54:00  139.528133  138.839245  0.0  0.013933   0.0  1.613846   \n",
      "2020-02-07 23:57:00  139.128508  138.273393  0.0  0.013933   0.0  1.571027   \n",
      "2020-02-08 00:00:00  138.742856  138.037125  NaN       NaN   0.0  1.530139   \n",
      "\n",
      "                         Risk  \n",
      "Time                           \n",
      "2020-02-07 00:00:00  2.755276  \n",
      "2020-02-07 00:03:00  2.755276  \n",
      "2020-02-07 00:06:00  2.755276  \n",
      "2020-02-07 00:09:00  2.755276  \n",
      "2020-02-07 00:12:00  2.755276  \n",
      "...                       ...  \n",
      "2020-02-07 23:48:00  1.706344  \n",
      "2020-02-07 23:51:00  1.658886  \n",
      "2020-02-07 23:54:00  1.613846  \n",
      "2020-02-07 23:57:00  1.571027  \n",
      "2020-02-08 00:00:00  1.530139  \n",
      "\n",
      "[481 rows x 7 columns],                              BG         CGM  CHO   insulin  LBGI      HBGI  \\\n",
      "Time                                                                         \n",
      "2020-02-07 00:00:00  149.020000  165.793949  0.0  0.013933   0.0  2.755276   \n",
      "2020-02-07 00:03:00  149.020000  161.582022  0.0  0.013933   0.0  2.755276   \n",
      "2020-02-07 00:06:00  149.020000  159.239373  0.0  0.013933   0.0  2.755276   \n",
      "2020-02-07 00:09:00  149.020000  157.472710  0.0  0.013933   0.0  2.755276   \n",
      "2020-02-07 00:12:00  149.020000  156.108950  0.0  0.013933   0.0  2.755276   \n",
      "...                         ...         ...  ...       ...   ...       ...   \n",
      "2020-02-07 23:48:00  136.141122  136.433521  0.0  0.013933   0.0  1.265711   \n",
      "2020-02-07 23:51:00  136.318670  135.911176  0.0  0.013933   0.0  1.283110   \n",
      "2020-02-07 23:54:00  136.513732  135.621211  0.0  0.013933   0.0  1.302336   \n",
      "2020-02-07 23:57:00  136.722001  135.664379  0.0  0.013933   0.0  1.322992   \n",
      "2020-02-08 00:00:00  136.939600  136.032967  NaN       NaN   0.0  1.344714   \n",
      "\n",
      "                         Risk  \n",
      "Time                           \n",
      "2020-02-07 00:00:00  2.755276  \n",
      "2020-02-07 00:03:00  2.755276  \n",
      "2020-02-07 00:06:00  2.755276  \n",
      "2020-02-07 00:09:00  2.755276  \n",
      "2020-02-07 00:12:00  2.755276  \n",
      "...                       ...  \n",
      "2020-02-07 23:48:00  1.265711  \n",
      "2020-02-07 23:51:00  1.283110  \n",
      "2020-02-07 23:54:00  1.302336  \n",
      "2020-02-07 23:57:00  1.322992  \n",
      "2020-02-08 00:00:00  1.344714  \n",
      "\n",
      "[481 rows x 7 columns]]\n"
     ]
    }
   ],
   "source": [
    "from simglucose.simulation.env import T1DSimEnv\n",
    "from simglucose.controller.basal_bolus_ctrller import BBController\n",
    "from simglucose.sensor.cgm import CGMSensor\n",
    "from simglucose.actuator.pump import InsulinPump\n",
    "from simglucose.patient.t1dpatient import T1DPatient\n",
    "from simglucose.simulation.scenario_gen import RandomScenario\n",
    "from simglucose.simulation.scenario import CustomScenario\n",
    "from simglucose.simulation.sim_engine import SimObj, sim, batch_sim\n",
    "from datetime import timedelta\n",
    "from datetime import datetime\n",
    "\n",
    "# specify start_time as the beginning of today\n",
    "now = datetime.now()\n",
    "start_time = datetime.combine(now.date(), datetime.min.time())\n",
    "\n",
    "# --------- Create Random Scenario --------------\n",
    "# Specify results saving path\n",
    "path = './results'\n",
    "\n",
    "# Create a simulation environment\n",
    "patient = T1DPatient.withName('adolescent#001')\n",
    "sensor = CGMSensor.withName('Dexcom', seed=1)\n",
    "pump = InsulinPump.withName('Insulet')\n",
    "scenario = RandomScenario(start_time=start_time, seed=1)\n",
    "env = T1DSimEnv(patient, sensor, pump, scenario)\n",
    "\n",
    "# Create a controller\n",
    "controller = BBController()\n",
    "\n",
    "# Put them together to create a simulation object\n",
    "s1 = SimObj(env, controller, timedelta(days=1), animate=False, path=path)\n",
    "results1 = sim(s1)\n",
    "print(results1)\n",
    "\n",
    "# --------- Create Custom Scenario --------------\n",
    "# Create a simulation environment\n",
    "patient = T1DPatient.withName('adolescent#001')\n",
    "sensor = CGMSensor.withName('Dexcom', seed=1)\n",
    "pump = InsulinPump.withName('Insulet')\n",
    "# custom scenario is a list of tuples (time, meal_size)\n",
    "scen = [(7, 45), (12, 70), (16, 15), (18, 80), (23, 10)]\n",
    "scenario = CustomScenario(start_time=start_time, scenario=scen)\n",
    "env = T1DSimEnv(patient, sensor, pump, scenario)\n",
    "\n",
    "# Create a controller\n",
    "controller = BBController()\n",
    "\n",
    "# Put them together to create a simulation object\n",
    "s2 = SimObj(env, controller, timedelta(days=1), animate=False, path=path)\n",
    "results2 = sim(s2)\n",
    "print(results2)\n",
    "\n",
    "\n",
    "# --------- batch simulation --------------\n",
    "# Re-initialize simulation objects\n",
    "s1.reset()\n",
    "s2.reset()\n",
    "\n",
    "# create a list of SimObj, and call batch_sim\n",
    "s = [s1, s2]\n",
    "results = batch_sim(s, parallel=True)\n",
    "print(results)"
   ]
  },
  {
   "cell_type": "code",
   "execution_count": null,
   "metadata": {},
   "outputs": [],
   "source": []
  }
 ],
 "metadata": {
  "kernelspec": {
   "display_name": "Python 3",
   "language": "python",
   "name": "python3"
  },
  "language_info": {
   "codemirror_mode": {
    "name": "ipython",
    "version": 3
   },
   "file_extension": ".py",
   "mimetype": "text/x-python",
   "name": "python",
   "nbconvert_exporter": "python",
   "pygments_lexer": "ipython3",
   "version": "3.6.9"
  }
 },
 "nbformat": 4,
 "nbformat_minor": 4
}
